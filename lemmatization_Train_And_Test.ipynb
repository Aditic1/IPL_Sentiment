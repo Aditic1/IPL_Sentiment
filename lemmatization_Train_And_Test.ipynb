{
  "cells": [
    {
      "cell_type": "markdown",
      "metadata": {
        "id": "view-in-github",
        "colab_type": "text"
      },
      "source": [
        "<a href=\"https://colab.research.google.com/github/Aditic1/IPL_Sentiment/blob/main/lemmatization_Train_And_Test.ipynb\" target=\"_parent\"><img src=\"https://colab.research.google.com/assets/colab-badge.svg\" alt=\"Open In Colab\"/></a>"
      ]
    },
    {
      "cell_type": "markdown",
      "metadata": {
        "id": "lOhqfBZRl5tQ"
      },
      "source": [
        "# Importing libraries"
      ]
    },
    {
      "cell_type": "code",
      "execution_count": 24,
      "metadata": {
        "id": "5E4OVUgQlh4I"
      },
      "outputs": [],
      "source": [
        "import pandas as pd\n",
        "import matplotlib.pyplot as plt\n",
        "\n",
        "from sklearn.model_selection import train_test_split\n",
        "from sklearn.feature_extraction.text import TfidfVectorizer\n",
        "from sklearn.metrics import accuracy_score, classification_report\n"
      ]
    },
    {
      "cell_type": "markdown",
      "metadata": {
        "id": "FhpOeBjymrE-"
      },
      "source": [
        "# Loading the dataset"
      ]
    },
    {
      "cell_type": "code",
      "execution_count": 25,
      "metadata": {
        "colab": {
          "base_uri": "https://localhost:8080/"
        },
        "id": "W9ZpBdvVBVEw",
        "outputId": "5bd51536-5f94-4248-8aca-871791081d71"
      },
      "outputs": [
        {
          "output_type": "stream",
          "name": "stdout",
          "text": [
            "Drive already mounted at /content/drive; to attempt to forcibly remount, call drive.mount(\"/content/drive\", force_remount=True).\n"
          ]
        }
      ],
      "source": [
        "from google.colab import drive\n",
        "drive.mount('/content/drive')"
      ]
    },
    {
      "cell_type": "code",
      "execution_count": 26,
      "metadata": {
        "colab": {
          "base_uri": "https://localhost:8080/",
          "height": 424
        },
        "id": "eGf3EUGkmqKm",
        "outputId": "d64dd30b-91b9-4323-c974-01439750dd52"
      },
      "outputs": [
        {
          "output_type": "execute_result",
          "data": {
            "text/plain": [
              "                                           english_text Sentiment\n",
              "0     ['brother', 'dangerous', 'pacer', 'season', 'i...  Positive\n",
              "1        ['purple', 'heart', 'smiling', 'face', 'horn']   Neutral\n",
              "2     ['kkr', 'purple', 'heart', 'smiling', 'face', ...  Positive\n",
              "3     ['bar', 'ke', 'ipl', 'semi', 'final', 'mein', ...  Positive\n",
              "4     ['csk', 'yellow', 'heart', 'yellow', 'heart', ...  Positive\n",
              "...                                                 ...       ...\n",
              "1678  ['rcb', 'win', 'ipl', 'red', 'heart', 'red', '...  Positive\n",
              "1679                         ['kkr', 'purple', 'heart']  Positive\n",
              "1680      ['e', 'sala', 'cup', 'namad', 'red', 'heart']  Positive\n",
              "1681                                             ['kl']  Positive\n",
              "1682  ['rcb', 'red', 'heart', 'red', 'heart', 'red',...  Positive\n",
              "\n",
              "[1683 rows x 2 columns]"
            ],
            "text/html": [
              "\n",
              "  <div id=\"df-59655b03-826b-4a91-b96f-bbd49be78d70\" class=\"colab-df-container\">\n",
              "    <div>\n",
              "<style scoped>\n",
              "    .dataframe tbody tr th:only-of-type {\n",
              "        vertical-align: middle;\n",
              "    }\n",
              "\n",
              "    .dataframe tbody tr th {\n",
              "        vertical-align: top;\n",
              "    }\n",
              "\n",
              "    .dataframe thead th {\n",
              "        text-align: right;\n",
              "    }\n",
              "</style>\n",
              "<table border=\"1\" class=\"dataframe\">\n",
              "  <thead>\n",
              "    <tr style=\"text-align: right;\">\n",
              "      <th></th>\n",
              "      <th>english_text</th>\n",
              "      <th>Sentiment</th>\n",
              "    </tr>\n",
              "  </thead>\n",
              "  <tbody>\n",
              "    <tr>\n",
              "      <th>0</th>\n",
              "      <td>['brother', 'dangerous', 'pacer', 'season', 'i...</td>\n",
              "      <td>Positive</td>\n",
              "    </tr>\n",
              "    <tr>\n",
              "      <th>1</th>\n",
              "      <td>['purple', 'heart', 'smiling', 'face', 'horn']</td>\n",
              "      <td>Neutral</td>\n",
              "    </tr>\n",
              "    <tr>\n",
              "      <th>2</th>\n",
              "      <td>['kkr', 'purple', 'heart', 'smiling', 'face', ...</td>\n",
              "      <td>Positive</td>\n",
              "    </tr>\n",
              "    <tr>\n",
              "      <th>3</th>\n",
              "      <td>['bar', 'ke', 'ipl', 'semi', 'final', 'mein', ...</td>\n",
              "      <td>Positive</td>\n",
              "    </tr>\n",
              "    <tr>\n",
              "      <th>4</th>\n",
              "      <td>['csk', 'yellow', 'heart', 'yellow', 'heart', ...</td>\n",
              "      <td>Positive</td>\n",
              "    </tr>\n",
              "    <tr>\n",
              "      <th>...</th>\n",
              "      <td>...</td>\n",
              "      <td>...</td>\n",
              "    </tr>\n",
              "    <tr>\n",
              "      <th>1678</th>\n",
              "      <td>['rcb', 'win', 'ipl', 'red', 'heart', 'red', '...</td>\n",
              "      <td>Positive</td>\n",
              "    </tr>\n",
              "    <tr>\n",
              "      <th>1679</th>\n",
              "      <td>['kkr', 'purple', 'heart']</td>\n",
              "      <td>Positive</td>\n",
              "    </tr>\n",
              "    <tr>\n",
              "      <th>1680</th>\n",
              "      <td>['e', 'sala', 'cup', 'namad', 'red', 'heart']</td>\n",
              "      <td>Positive</td>\n",
              "    </tr>\n",
              "    <tr>\n",
              "      <th>1681</th>\n",
              "      <td>['kl']</td>\n",
              "      <td>Positive</td>\n",
              "    </tr>\n",
              "    <tr>\n",
              "      <th>1682</th>\n",
              "      <td>['rcb', 'red', 'heart', 'red', 'heart', 'red',...</td>\n",
              "      <td>Positive</td>\n",
              "    </tr>\n",
              "  </tbody>\n",
              "</table>\n",
              "<p>1683 rows × 2 columns</p>\n",
              "</div>\n",
              "    <div class=\"colab-df-buttons\">\n",
              "\n",
              "  <div class=\"colab-df-container\">\n",
              "    <button class=\"colab-df-convert\" onclick=\"convertToInteractive('df-59655b03-826b-4a91-b96f-bbd49be78d70')\"\n",
              "            title=\"Convert this dataframe to an interactive table.\"\n",
              "            style=\"display:none;\">\n",
              "\n",
              "  <svg xmlns=\"http://www.w3.org/2000/svg\" height=\"24px\" viewBox=\"0 -960 960 960\">\n",
              "    <path d=\"M120-120v-720h720v720H120Zm60-500h600v-160H180v160Zm220 220h160v-160H400v160Zm0 220h160v-160H400v160ZM180-400h160v-160H180v160Zm440 0h160v-160H620v160ZM180-180h160v-160H180v160Zm440 0h160v-160H620v160Z\"/>\n",
              "  </svg>\n",
              "    </button>\n",
              "\n",
              "  <style>\n",
              "    .colab-df-container {\n",
              "      display:flex;\n",
              "      gap: 12px;\n",
              "    }\n",
              "\n",
              "    .colab-df-convert {\n",
              "      background-color: #E8F0FE;\n",
              "      border: none;\n",
              "      border-radius: 50%;\n",
              "      cursor: pointer;\n",
              "      display: none;\n",
              "      fill: #1967D2;\n",
              "      height: 32px;\n",
              "      padding: 0 0 0 0;\n",
              "      width: 32px;\n",
              "    }\n",
              "\n",
              "    .colab-df-convert:hover {\n",
              "      background-color: #E2EBFA;\n",
              "      box-shadow: 0px 1px 2px rgba(60, 64, 67, 0.3), 0px 1px 3px 1px rgba(60, 64, 67, 0.15);\n",
              "      fill: #174EA6;\n",
              "    }\n",
              "\n",
              "    .colab-df-buttons div {\n",
              "      margin-bottom: 4px;\n",
              "    }\n",
              "\n",
              "    [theme=dark] .colab-df-convert {\n",
              "      background-color: #3B4455;\n",
              "      fill: #D2E3FC;\n",
              "    }\n",
              "\n",
              "    [theme=dark] .colab-df-convert:hover {\n",
              "      background-color: #434B5C;\n",
              "      box-shadow: 0px 1px 3px 1px rgba(0, 0, 0, 0.15);\n",
              "      filter: drop-shadow(0px 1px 2px rgba(0, 0, 0, 0.3));\n",
              "      fill: #FFFFFF;\n",
              "    }\n",
              "  </style>\n",
              "\n",
              "    <script>\n",
              "      const buttonEl =\n",
              "        document.querySelector('#df-59655b03-826b-4a91-b96f-bbd49be78d70 button.colab-df-convert');\n",
              "      buttonEl.style.display =\n",
              "        google.colab.kernel.accessAllowed ? 'block' : 'none';\n",
              "\n",
              "      async function convertToInteractive(key) {\n",
              "        const element = document.querySelector('#df-59655b03-826b-4a91-b96f-bbd49be78d70');\n",
              "        const dataTable =\n",
              "          await google.colab.kernel.invokeFunction('convertToInteractive',\n",
              "                                                    [key], {});\n",
              "        if (!dataTable) return;\n",
              "\n",
              "        const docLinkHtml = 'Like what you see? Visit the ' +\n",
              "          '<a target=\"_blank\" href=https://colab.research.google.com/notebooks/data_table.ipynb>data table notebook</a>'\n",
              "          + ' to learn more about interactive tables.';\n",
              "        element.innerHTML = '';\n",
              "        dataTable['output_type'] = 'display_data';\n",
              "        await google.colab.output.renderOutput(dataTable, element);\n",
              "        const docLink = document.createElement('div');\n",
              "        docLink.innerHTML = docLinkHtml;\n",
              "        element.appendChild(docLink);\n",
              "      }\n",
              "    </script>\n",
              "  </div>\n",
              "\n",
              "\n",
              "<div id=\"df-ffb12c7e-f9f4-46ab-a205-54d33ff8ad97\">\n",
              "  <button class=\"colab-df-quickchart\" onclick=\"quickchart('df-ffb12c7e-f9f4-46ab-a205-54d33ff8ad97')\"\n",
              "            title=\"Suggest charts\"\n",
              "            style=\"display:none;\">\n",
              "\n",
              "<svg xmlns=\"http://www.w3.org/2000/svg\" height=\"24px\"viewBox=\"0 0 24 24\"\n",
              "     width=\"24px\">\n",
              "    <g>\n",
              "        <path d=\"M19 3H5c-1.1 0-2 .9-2 2v14c0 1.1.9 2 2 2h14c1.1 0 2-.9 2-2V5c0-1.1-.9-2-2-2zM9 17H7v-7h2v7zm4 0h-2V7h2v10zm4 0h-2v-4h2v4z\"/>\n",
              "    </g>\n",
              "</svg>\n",
              "  </button>\n",
              "\n",
              "<style>\n",
              "  .colab-df-quickchart {\n",
              "      --bg-color: #E8F0FE;\n",
              "      --fill-color: #1967D2;\n",
              "      --hover-bg-color: #E2EBFA;\n",
              "      --hover-fill-color: #174EA6;\n",
              "      --disabled-fill-color: #AAA;\n",
              "      --disabled-bg-color: #DDD;\n",
              "  }\n",
              "\n",
              "  [theme=dark] .colab-df-quickchart {\n",
              "      --bg-color: #3B4455;\n",
              "      --fill-color: #D2E3FC;\n",
              "      --hover-bg-color: #434B5C;\n",
              "      --hover-fill-color: #FFFFFF;\n",
              "      --disabled-bg-color: #3B4455;\n",
              "      --disabled-fill-color: #666;\n",
              "  }\n",
              "\n",
              "  .colab-df-quickchart {\n",
              "    background-color: var(--bg-color);\n",
              "    border: none;\n",
              "    border-radius: 50%;\n",
              "    cursor: pointer;\n",
              "    display: none;\n",
              "    fill: var(--fill-color);\n",
              "    height: 32px;\n",
              "    padding: 0;\n",
              "    width: 32px;\n",
              "  }\n",
              "\n",
              "  .colab-df-quickchart:hover {\n",
              "    background-color: var(--hover-bg-color);\n",
              "    box-shadow: 0 1px 2px rgba(60, 64, 67, 0.3), 0 1px 3px 1px rgba(60, 64, 67, 0.15);\n",
              "    fill: var(--button-hover-fill-color);\n",
              "  }\n",
              "\n",
              "  .colab-df-quickchart-complete:disabled,\n",
              "  .colab-df-quickchart-complete:disabled:hover {\n",
              "    background-color: var(--disabled-bg-color);\n",
              "    fill: var(--disabled-fill-color);\n",
              "    box-shadow: none;\n",
              "  }\n",
              "\n",
              "  .colab-df-spinner {\n",
              "    border: 2px solid var(--fill-color);\n",
              "    border-color: transparent;\n",
              "    border-bottom-color: var(--fill-color);\n",
              "    animation:\n",
              "      spin 1s steps(1) infinite;\n",
              "  }\n",
              "\n",
              "  @keyframes spin {\n",
              "    0% {\n",
              "      border-color: transparent;\n",
              "      border-bottom-color: var(--fill-color);\n",
              "      border-left-color: var(--fill-color);\n",
              "    }\n",
              "    20% {\n",
              "      border-color: transparent;\n",
              "      border-left-color: var(--fill-color);\n",
              "      border-top-color: var(--fill-color);\n",
              "    }\n",
              "    30% {\n",
              "      border-color: transparent;\n",
              "      border-left-color: var(--fill-color);\n",
              "      border-top-color: var(--fill-color);\n",
              "      border-right-color: var(--fill-color);\n",
              "    }\n",
              "    40% {\n",
              "      border-color: transparent;\n",
              "      border-right-color: var(--fill-color);\n",
              "      border-top-color: var(--fill-color);\n",
              "    }\n",
              "    60% {\n",
              "      border-color: transparent;\n",
              "      border-right-color: var(--fill-color);\n",
              "    }\n",
              "    80% {\n",
              "      border-color: transparent;\n",
              "      border-right-color: var(--fill-color);\n",
              "      border-bottom-color: var(--fill-color);\n",
              "    }\n",
              "    90% {\n",
              "      border-color: transparent;\n",
              "      border-bottom-color: var(--fill-color);\n",
              "    }\n",
              "  }\n",
              "</style>\n",
              "\n",
              "  <script>\n",
              "    async function quickchart(key) {\n",
              "      const quickchartButtonEl =\n",
              "        document.querySelector('#' + key + ' button');\n",
              "      quickchartButtonEl.disabled = true;  // To prevent multiple clicks.\n",
              "      quickchartButtonEl.classList.add('colab-df-spinner');\n",
              "      try {\n",
              "        const charts = await google.colab.kernel.invokeFunction(\n",
              "            'suggestCharts', [key], {});\n",
              "      } catch (error) {\n",
              "        console.error('Error during call to suggestCharts:', error);\n",
              "      }\n",
              "      quickchartButtonEl.classList.remove('colab-df-spinner');\n",
              "      quickchartButtonEl.classList.add('colab-df-quickchart-complete');\n",
              "    }\n",
              "    (() => {\n",
              "      let quickchartButtonEl =\n",
              "        document.querySelector('#df-ffb12c7e-f9f4-46ab-a205-54d33ff8ad97 button');\n",
              "      quickchartButtonEl.style.display =\n",
              "        google.colab.kernel.accessAllowed ? 'block' : 'none';\n",
              "    })();\n",
              "  </script>\n",
              "</div>\n",
              "\n",
              "    </div>\n",
              "  </div>\n"
            ],
            "application/vnd.google.colaboratory.intrinsic+json": {
              "type": "dataframe",
              "summary": "{\n  \"name\": \"Dataset\",\n  \"rows\": 1683,\n  \"fields\": [\n    {\n      \"column\": \"english_text\",\n      \"properties\": {\n        \"dtype\": \"string\",\n        \"num_unique_values\": 1648,\n        \"samples\": [\n          \"['orange', 'heart', 'orange', 'heart', 'orange', 'heart', 'fire', 'fire', 'fire']\",\n          \"['rohit', 'sharma', 'captain', 'mi']\",\n          \"['mumbai', 'indian', 'analysis', 'top', 'fire', 'fire', 'except', 'ishan', 'kishan', 'wk', 'top']\"\n        ],\n        \"semantic_type\": \"\",\n        \"description\": \"\"\n      }\n    },\n    {\n      \"column\": \"Sentiment\",\n      \"properties\": {\n        \"dtype\": \"category\",\n        \"num_unique_values\": 3,\n        \"samples\": [\n          \"Positive\",\n          \"Neutral\",\n          \"Negative\"\n        ],\n        \"semantic_type\": \"\",\n        \"description\": \"\"\n      }\n    }\n  ]\n}"
            }
          },
          "metadata": {},
          "execution_count": 26
        }
      ],
      "source": [
        "file_path = '/content/drive/MyDrive/Labelled_Dataset.csv'\n",
        "Dataset = pd.read_csv(file_path,encoding='ISO-8859-1')\n",
        "Dataset.dropna()"
      ]
    },
    {
      "cell_type": "markdown",
      "metadata": {
        "id": "reVtnn_anzDM"
      },
      "source": [
        "# Count number of positives, negatives and neutrals"
      ]
    },
    {
      "cell_type": "code",
      "execution_count": 27,
      "metadata": {
        "colab": {
          "base_uri": "https://localhost:8080/"
        },
        "id": "LcRm244qnx5R",
        "outputId": "e20f1974-dc7c-4007-9708-eef064fc81e4"
      },
      "outputs": [
        {
          "output_type": "execute_result",
          "data": {
            "text/plain": [
              "Sentiment\n",
              "Positive    1243\n",
              "Neutral      288\n",
              "Negative     152\n",
              "Name: count, dtype: int64"
            ]
          },
          "metadata": {},
          "execution_count": 27
        }
      ],
      "source": [
        "Dataset['Sentiment'].value_counts()\n",
        "\n"
      ]
    },
    {
      "cell_type": "code",
      "execution_count": 28,
      "metadata": {
        "colab": {
          "base_uri": "https://localhost:8080/",
          "height": 520
        },
        "id": "fKFPtIH9oai6",
        "outputId": "25a2dd95-8022-40c9-9a4a-957f7dfdfb5a"
      },
      "outputs": [
        {
          "output_type": "display_data",
          "data": {
            "text/plain": [
              "<Figure size 640x480 with 1 Axes>"
            ],
            "image/png": "[encoded data removed]"
          },
          "metadata": {}
        }
      ],
      "source": [
        "# Counting sentiment occurrences\n",
        "sentiment_counts = Dataset['Sentiment'].value_counts()\n",
        "\n",
        "# Plotting the sentiment distribution\n",
        "import matplotlib.pyplot as plt\n",
        "\n",
        "ax = sentiment_counts.plot(kind='bar')\n",
        "plt.xlabel('Sentiment')\n",
        "plt.ylabel('Count')\n",
        "plt.title('Sentiment Distribution')\n",
        "ax.bar_label(ax.containers[0], label_type='edge', fontsize=10)\n",
        "plt.show()\n"
      ]
    },
    {
      "cell_type": "markdown",
      "metadata": {
        "id": "2os_94II2Hoa"
      },
      "source": [
        "# Split into test and train"
      ]
    },
    {
      "cell_type": "code",
      "execution_count": 29,
      "metadata": {
        "id": "yAUs9KH52LSx"
      },
      "outputs": [],
      "source": [
        "X = Dataset['english_text'].astype(str)\n",
        "Y = Dataset['Sentiment']\n",
        "#Split into train and test\n",
        "X_train, X_test, Y_train, Y_test = train_test_split(X,Y, test_size=0.2, random_state=42)\n"
      ]
    },
    {
      "cell_type": "markdown",
      "metadata": {
        "id": "3v-gQZTVyODs"
      },
      "source": [
        "# TF-IDF"
      ]
    },
    {
      "cell_type": "code",
      "execution_count": 30,
      "metadata": {
        "id": "FcNfpzOIyNxX",
        "colab": {
          "base_uri": "https://localhost:8080/"
        },
        "outputId": "9f9912a6-89ac-41cf-b326-25aafe6d0c9d"
      },
      "outputs": [
        {
          "output_type": "execute_result",
          "data": {
            "text/plain": [
              "array(['aa', 'aaaaa', 'aah', ..., 'yrr', 'zeebe', 'zone'], dtype=object)"
            ]
          },
          "metadata": {},
          "execution_count": 30
        }
      ],
      "source": [
        "\n",
        "#create a tfidf vectorizer\n",
        "tfidf_vectorizer = TfidfVectorizer(stop_words='english')\n",
        "\n",
        "#Fit and transform the training data\n",
        "X_tfidf_train = tfidf_vectorizer.fit_transform(X_train)\n",
        "\n",
        "#Fit and transform the testing data\n",
        "X_tfidf_test  = tfidf_vectorizer.transform(X_test)\n",
        "\n",
        "tfidf_vectorizer.get_feature_names_out()\n"
      ]
    },
    {
      "cell_type": "markdown",
      "source": [
        "# Tranining the model"
      ],
      "metadata": {
        "id": "2Lfjq60yXbDz"
      }
    },
    {
      "cell_type": "code",
      "execution_count": 31,
      "metadata": {
        "id": "J08fL2IE6ppR"
      },
      "outputs": [],
      "source": [
        "from sklearn.model_selection import train_test_split\n",
        "from sklearn.naive_bayes import MultinomialNB\n",
        "\n",
        "# Create and train a Multinomial Naive Bayes classifier\n",
        "naive_bayes_classifier = MultinomialNB()\n",
        "naive_bayes_classifier.fit(X_tfidf_train, Y_train)\n",
        "\n",
        "# Predictions on the test set\n",
        "y_naive_pred = naive_bayes_classifier.predict(X_tfidf_test)\n",
        "\n",
        "\n",
        "#For SVM\n",
        "from sklearn.svm import SVC\n",
        "svm_classifier = SVC(kernel='linear', random_state=42)\n",
        "svm_classifier.fit(X_tfidf_train, Y_train)\n",
        "\n",
        "# Predictions on the test set\n",
        "y_svm_pred = svm_classifier.predict(X_tfidf_test)\n",
        "\n",
        "from sklearn.ensemble import RandomForestClassifier\n",
        "\n",
        "# Create a Random Forest classifier\n",
        "random_forest_classifier = RandomForestClassifier(random_state=42)\n",
        "\n",
        "# Fit the classifier on the training data\n",
        "random_forest_classifier.fit(X_tfidf_train, Y_train)\n",
        "\n",
        "# Predictions on the test set\n",
        "y_random_pred = random_forest_classifier.predict(X_tfidf_test)\n",
        "\n"
      ]
    },
    {
      "cell_type": "markdown",
      "source": [
        "# Evaluating the accuracy with TF-IDF"
      ],
      "metadata": {
        "id": "xNt88IvfKB5E"
      }
    },
    {
      "cell_type": "code",
      "source": [
        "# Evaluate the Multinomial model\n",
        "naive_tfidf_accuracy = accuracy_score(Y_test, y_pred = naive_bayes_classifier.predict(X_tfidf_test)\n",
        ")\n",
        "print(\"The accuracy with tfidf and naive bayes (Multinomial) is\", naive_tfidf_accuracy)\n",
        "\n",
        "# Evaluate the model\n",
        "svm_tfidf_accuracy = accuracy_score(Y_test, y_svm_pred)\n",
        "print(\"The accuracy with tfidf and SVM  is\",svm_tfidf_accuracy)\n",
        "\n",
        "# Evaluate the model\n",
        "random_tfidf_accuracy = accuracy_score(Y_test, y_random_pred)\n",
        "print(\"The accuracy with tfidf and Random Forest is\", random_tfidf_accuracy)\n"
      ],
      "metadata": {
        "colab": {
          "base_uri": "https://localhost:8080/"
        },
        "id": "j-evLm28XaOP",
        "outputId": "c94c3c66-b048-4490-e854-ce9c414a432a"
      },
      "execution_count": 32,
      "outputs": [
        {
          "output_type": "stream",
          "name": "stdout",
          "text": [
            "The accuracy with tfidf and naive bayes (Multinomial) is 0.7626112759643917\n",
            "The accuracy with tfidf and SVM  is 0.8071216617210683\n",
            "The accuracy with tfidf and Random Forest is 0.7893175074183977\n"
          ]
        }
      ]
    },
    {
      "cell_type": "markdown",
      "metadata": {
        "id": "DsW9Nr_K2YsA"
      },
      "source": [
        "#Bag Of Words"
      ]
    },
    {
      "cell_type": "code",
      "execution_count": 33,
      "metadata": {
        "colab": {
          "base_uri": "https://localhost:8080/"
        },
        "id": "iNqIpg0Z2c3u",
        "outputId": "9521e670-3629-4a8a-b21c-09cda7b2e186"
      },
      "outputs": [
        {
          "output_type": "execute_result",
          "data": {
            "text/plain": [
              "array(['aa', 'aaaaa', 'aah', ..., 'yrr', 'zeebe', 'zone'], dtype=object)"
            ]
          },
          "metadata": {},
          "execution_count": 33
        }
      ],
      "source": [
        "from sklearn.feature_extraction.text import CountVectorizer\n",
        "\n",
        "vectorizer = CountVectorizer(stop_words='english')\n",
        "\n",
        "#Fit and Transform the training data\n",
        "X_cv_train = vectorizer.fit_transform(X_train)\n",
        "#Fit and transform the testing data\n",
        "X_cv_test = vectorizer.transform(X_test)\n",
        "vectorizer.get_feature_names_out()\n"
      ]
    },
    {
      "cell_type": "markdown",
      "source": [
        "Naive Bayes"
      ],
      "metadata": {
        "id": "MpF-ueFSkwck"
      }
    },
    {
      "cell_type": "code",
      "source": [
        "#Naive Bayes classifier\n",
        "naive_bayes_classifier.fit(X_cv_train, Y_train)\n",
        "# Predictions on the test set\n",
        "y_pred = naive_bayes_classifier.predict(X_cv_test)\n",
        "\n",
        "#SVM\n",
        "svm_classifier.fit(X_cv_train, Y_train)\n",
        "\n",
        "# Predictions on the test set\n",
        "y_SVM_pred = svm_classifier.predict(X_cv_test)\n",
        "\n",
        "#Random Forest\n",
        "random_forest_classifier.fit(X_cv_train, Y_train)\n",
        "\n",
        "# Predictions on the test set\n",
        "y_random_pred = random_forest_classifier.predict(X_cv_test)\n"
      ],
      "metadata": {
        "id": "CVuMpTx7Whai"
      },
      "execution_count": 34,
      "outputs": []
    },
    {
      "cell_type": "markdown",
      "source": [
        "Accuracy with SVM, Naive and RandomForest with Bag of Words\n",
        "---\n",
        "\n"
      ],
      "metadata": {
        "id": "Ba8n_fsjkzmN"
      }
    },
    {
      "cell_type": "code",
      "source": [
        "# Evaluate the model\n",
        "naive_cv_accuracy = accuracy_score(Y_test, y_pred)\n",
        "print(\"The accuracy with BOW and Naive (Gaussian) is\",naive_cv_accuracy)\n",
        "\n",
        "# Evaluate the model\n",
        "svm_cv_accuracy = accuracy_score(Y_test, y_SVM_pred)\n",
        "print(\"The accuracy with BOW and SVM is\",svm_cv_accuracy)\n",
        "\n",
        "random_cv_accuracy = accuracy_score(Y_test, y_random_pred)\n",
        "print(\"The accuracy with BOW and RandomForest (Multinomial) is:\", random_cv_accuracy)"
      ],
      "metadata": {
        "colab": {
          "base_uri": "https://localhost:8080/"
        },
        "id": "COeH9qa4az3R",
        "outputId": "480d6209-9694-4889-aa55-116c071c2a42"
      },
      "execution_count": 39,
      "outputs": [
        {
          "output_type": "stream",
          "name": "stdout",
          "text": [
            "The accuracy with BOW and Naive (Gaussian) is 0.7833827893175074\n",
            "The accuracy with BOW and SVM is 0.771513353115727\n",
            "The accuracy with BOW and RandomForest (Multinomial) is: 0.7685459940652819\n"
          ]
        }
      ]
    },
    {
      "cell_type": "markdown",
      "source": [
        "#"
      ],
      "metadata": {
        "id": "vzv9FP0fk9gf"
      }
    },
    {
      "cell_type": "code",
      "source": [
        "import numpy as np\n",
        "from gensim.models import Word2Vec\n",
        "from nltk.tokenize import word_tokenize\n",
        "import nltk\n",
        "nltk.download('punkt')\n",
        "\n",
        "tokenized_train = [word_tokenize(text) for text in X_train]\n",
        "tokenized_test = [word_tokenize(text) for text in X_test]\n",
        "\n",
        "# Training Word2Vec model\n",
        "model_w2v = Word2Vec(sentences=tokenized_train, vector_size=100, window=5, min_count=1, workers=4)\n",
        "\n",
        "# Function to create average word vectors\n",
        "def feature_vectorizer(tokens, model):\n",
        "    words = [word for word in tokens if word in model.wv]\n",
        "    if words:\n",
        "        return np.mean(model.wv[words], axis=0)\n",
        "    else:\n",
        "        return np.zeros(100)\n",
        "\n",
        "# Transforming text into average vectors\n",
        "x_train_w2v = np.array([feature_vectorizer(text, model_w2v) for text in tokenized_train])\n",
        "x_test_w2v = np.array([feature_vectorizer(text, model_w2v) for text in tokenized_test])\n",
        "\n",
        "print(\"\\nThis is what Word To Vector(w2v) Representation looks like-\")\n",
        "print(x_train_w2v[:2])\n",
        "print(\"\\n*Word2Vec SUCCESSFULLY GENERATED!*\")"
      ],
      "metadata": {
        "id": "vvBCn5V7kgSl"
      },
      "execution_count": null,
      "outputs": []
    },
    {
      "cell_type": "markdown",
      "source": [],
      "metadata": {
        "id": "UAJM4nVLcOcb"
      }
    },
    {
      "cell_type": "markdown",
      "source": [
        "Word2vec random forest"
      ],
      "metadata": {
        "id": "Fhsi9CnAIxHx"
      }
    },
    {
      "cell_type": "code",
      "source": [
        "random_forest_classifier.fit(x_train_w2v, Y_train)\n",
        "\n",
        "# Predictions on the test set\n",
        "y_pred_w2v = random_forest_classifier.predict(x_test_w2v)\n",
        "\n",
        "# Evaluate the model\n",
        "w2v_rf_accuracy = accuracy_score(Y_test, y_pred_w2v)\n",
        "print(\"Accuracy using Word2Vec random forest:\", w2v_rf_accuracy)\n",
        "svm_classifier.fit(x_train_w2v, Y_train)  # Use x_train_w2v instead of X_cv_train\n",
        "\n",
        "# Predictions on the test set\n",
        "y_pred_w2v = svm_classifier.predict(x_test_w2v)  # Use x_test_w2v instead of X_cv_test\n",
        "\n",
        "# Evaluate the model\n",
        "w2v_svm_accuracy = accuracy_score(Y_test, y_pred_w2v)\n",
        "print(\"Accuracy using Word2Vec random forest:\", w2v_svm_accuracy)"
      ],
      "metadata": {
        "colab": {
          "base_uri": "https://localhost:8080/"
        },
        "id": "RknNAKDYI0km",
        "outputId": "34cbe3fe-51c8-4936-97b9-ddbf89bc7107"
      },
      "execution_count": 37,
      "outputs": [
        {
          "output_type": "stream",
          "name": "stdout",
          "text": [
            "Accuracy using Word2Vec random forest: 0.7388724035608308\n",
            "Accuracy using Word2Vec random forest: 0.744807121661721\n"
          ]
        }
      ]
    },
    {
      "cell_type": "code",
      "source": [
        "from sklearn.naive_bayes import GaussianNB\n",
        "from sklearn.metrics import accuracy_score\n",
        "\n",
        "# Create a Gaussian Naive Bayes classifier\n",
        "gaussian_nb_classifier = GaussianNB()\n",
        "\n",
        "# Fit the classifier on the training data\n",
        "gaussian_nb_classifier.fit(x_train_w2v, Y_train)\n",
        "\n",
        "# Predictions on the test set\n",
        "y_pred_w2v_nb = gaussian_nb_classifier.predict(x_test_w2v)\n",
        "\n",
        "# Evaluate the model\n",
        "w2v_nb_accuracy = accuracy_score(Y_test, y_pred_w2v_nb)\n",
        "print(\"Accuracy using Word2Vec with Gaussian Naive Bayes:\", w2v_nb_accuracy)\n"
      ],
      "metadata": {
        "colab": {
          "base_uri": "https://localhost:8080/"
        },
        "id": "wylPK87oJDAD",
        "outputId": "e94f6b98-4487-4438-b2cf-52845a9e535f"
      },
      "execution_count": null,
      "outputs": [
        {
          "output_type": "stream",
          "name": "stdout",
          "text": [
            "Accuracy using Word2Vec with Gaussian Naive Bayes: 0.5548961424332344\n"
          ]
        }
      ]
    },
    {
      "cell_type": "code",
      "source": [
        "import matplotlib.pyplot as plt\n",
        "\n",
        "# Accuracies for different feature representations\n",
        "tfidf_accuracies = [naive_tfidf_accuracy, svm_tfidf_accuracy, random_tfidf_accuracy]\n",
        "cv_accuracies = [naive_cv_accuracy, svm_cv_accuracy, random_cv_accuracy]\n",
        "w2v_accuracies = [w2v_rf_accuracy, w2v_svm_accuracy, w2v_nb_accuracy]\n",
        "\n",
        "# Labels for the bars\n",
        "models = ['Multinomial NB', 'SVM', 'Random Forest']\n",
        "\n",
        "# Plotting the accuracies\n",
        "plt.figure(figsize=(10, 6))\n",
        "\n",
        "bar_width = 0.25\n",
        "index = range(len(models))\n",
        "\n",
        "plt.bar(index, tfidf_accuracies, bar_width, label='TF-IDF')\n",
        "plt.bar([i + bar_width for i in index], cv_accuracies, bar_width, label='Bag of Words')\n",
        "plt.bar([i + bar_width*2 for i in index], w2v_accuracies, bar_width, label='Word2Vec')\n",
        "\n",
        "plt.xlabel('Models', fontsize=12)\n",
        "plt.ylabel('Accuracy', fontsize=12)\n",
        "plt.title('Accuracy Comparison of Different Feature Representations', fontsize=14)\n",
        "plt.xticks([i + bar_width for i in index], models)\n",
        "plt.legend()\n",
        "plt.tight_layout()\n",
        "plt.show()\n"
      ],
      "metadata": {
        "id": "T6ZU0XR8Xrwh",
        "colab": {
          "base_uri": "https://localhost:8080/",
          "height": 607
        },
        "outputId": "5146cdee-ab8b-4f54-b635-51bdca1690a5"
      },
      "execution_count": 38,
      "outputs": [
        {
          "output_type": "display_data",
          "data": {
            "text/plain": [
              "<Figure size 1000x600 with 1 Axes>"
            ],
            "image/png": "[encoded data removed]"
          },
          "metadata": {}
        }
      ]
    }
  ],
  "metadata": {
    "colab": {
      "provenance": [],
      "mount_file_id": "1MrJSdIRMRtWOopq12amXOP0OlF6aKoDh",
      "authorship_tag": "ABX9TyNXOeHz/DHxyag36VDwyIr8",
      "include_colab_link": true
    },
    "kernelspec": {
      "display_name": "Python 3",
      "name": "python3"
    },
    "language_info": {
      "name": "python"
    }
  },
  "nbformat": 4,
  "nbformat_minor": 0
}