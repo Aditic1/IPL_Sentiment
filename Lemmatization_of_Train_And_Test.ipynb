{
  "cells": [
    {
      "cell_type": "markdown",
      "metadata": {
        "id": "view-in-github",
        "colab_type": "text"
      },
      "source": [
        "<a href=\"https://colab.research.google.com/github/Aditic1/IPL_Sentiment/blob/main/Lemmatization_of_Train_And_Test.ipynb\" target=\"_parent\"><img src=\"https://colab.research.google.com/assets/colab-badge.svg\" alt=\"Open In Colab\"/></a>"
      ]
    },
    {
      "cell_type": "markdown",
      "metadata": {
        "id": "lOhqfBZRl5tQ"
      },
      "source": [
        "# Importing libraries"
      ]
    },
    {
      "cell_type": "code",
      "execution_count": null,
      "metadata": {
        "id": "5E4OVUgQlh4I"
      },
      "outputs": [],
      "source": [
        "import pandas as pd\n",
        "import matplotlib.pyplot as plt\n",
        "\n",
        "from sklearn.model_selection import train_test_split\n",
        "from sklearn.feature_extraction.text import TfidfVectorizer\n",
        "from sklearn.metrics import accuracy_score, classification_report\n"
      ]
    },
    {
      "cell_type": "markdown",
      "metadata": {
        "id": "FhpOeBjymrE-"
      },
      "source": [
        "# Loading the dataset"
      ]
    },
    {
      "cell_type": "code",
      "execution_count": null,
      "metadata": {
        "id": "W9ZpBdvVBVEw",
        "colab": {
          "base_uri": "https://localhost:8080/"
        },
        "outputId": "1e35b2ae-6ff9-4cf8-8c87-e6bb7c1ffb80"
      },
      "outputs": [
        {
          "output_type": "stream",
          "name": "stdout",
          "text": [
            "Mounted at /content/drive\n"
          ]
        }
      ],
      "source": [
        "from google.colab import drive\n",
        "drive.mount('/content/drive')"
      ]
    },
    {
      "cell_type": "code",
      "execution_count": null,
      "metadata": {
        "id": "eGf3EUGkmqKm",
        "colab": {
          "base_uri": "https://localhost:8080/",
          "height": 424
        },
        "outputId": "3dd9c5ce-0626-4979-a08a-02eb837dfb5b"
      },
      "outputs": [
        {
          "output_type": "execute_result",
          "data": {
            "text/plain": [
              "                                           english_text Sentiment\n",
              "0     ['brother', 'danger', 'pacer', 'season', 'ipl'...  Positive\n",
              "1           ['purpl', 'heart', 'smile', 'face', 'horn']   Neutral\n",
              "2     ['kkr', 'purpl', 'heart', 'smile', 'face', 'ho...  Positive\n",
              "3     ['bar', 'ke', 'ipl', 'semi', 'final', 'mein', ...  Positive\n",
              "4     ['csk', 'yellow', 'heart', 'yellow', 'heart', ...  Positive\n",
              "...                                                 ...       ...\n",
              "1685  ['rcb', 'win', 'ipl', 'red', 'heart', 'red', '...  Positive\n",
              "1686                          ['kkr', 'purpl', 'heart']  Positive\n",
              "1687      ['e', 'sala', 'cup', 'namad', 'red', 'heart']  Positive\n",
              "1688                                             ['kl']  Positive\n",
              "1689  ['rcb', 'red', 'heart', 'red', 'heart', 'red',...  Positive\n",
              "\n",
              "[1690 rows x 2 columns]"
            ],
            "text/html": [
              "\n",
              "  <div id=\"df-1580b65a-2da2-41f1-9716-09baa0e4c4aa\" class=\"colab-df-container\">\n",
              "    <div>\n",
              "<style scoped>\n",
              "    .dataframe tbody tr th:only-of-type {\n",
              "        vertical-align: middle;\n",
              "    }\n",
              "\n",
              "    .dataframe tbody tr th {\n",
              "        vertical-align: top;\n",
              "    }\n",
              "\n",
              "    .dataframe thead th {\n",
              "        text-align: right;\n",
              "    }\n",
              "</style>\n",
              "<table border=\"1\" class=\"dataframe\">\n",
              "  <thead>\n",
              "    <tr style=\"text-align: right;\">\n",
              "      <th></th>\n",
              "      <th>english_text</th>\n",
              "      <th>Sentiment</th>\n",
              "    </tr>\n",
              "  </thead>\n",
              "  <tbody>\n",
              "    <tr>\n",
              "      <th>0</th>\n",
              "      <td>['brother', 'danger', 'pacer', 'season', 'ipl'...</td>\n",
              "      <td>Positive</td>\n",
              "    </tr>\n",
              "    <tr>\n",
              "      <th>1</th>\n",
              "      <td>['purpl', 'heart', 'smile', 'face', 'horn']</td>\n",
              "      <td>Neutral</td>\n",
              "    </tr>\n",
              "    <tr>\n",
              "      <th>2</th>\n",
              "      <td>['kkr', 'purpl', 'heart', 'smile', 'face', 'ho...</td>\n",
              "      <td>Positive</td>\n",
              "    </tr>\n",
              "    <tr>\n",
              "      <th>3</th>\n",
              "      <td>['bar', 'ke', 'ipl', 'semi', 'final', 'mein', ...</td>\n",
              "      <td>Positive</td>\n",
              "    </tr>\n",
              "    <tr>\n",
              "      <th>4</th>\n",
              "      <td>['csk', 'yellow', 'heart', 'yellow', 'heart', ...</td>\n",
              "      <td>Positive</td>\n",
              "    </tr>\n",
              "    <tr>\n",
              "      <th>...</th>\n",
              "      <td>...</td>\n",
              "      <td>...</td>\n",
              "    </tr>\n",
              "    <tr>\n",
              "      <th>1685</th>\n",
              "      <td>['rcb', 'win', 'ipl', 'red', 'heart', 'red', '...</td>\n",
              "      <td>Positive</td>\n",
              "    </tr>\n",
              "    <tr>\n",
              "      <th>1686</th>\n",
              "      <td>['kkr', 'purpl', 'heart']</td>\n",
              "      <td>Positive</td>\n",
              "    </tr>\n",
              "    <tr>\n",
              "      <th>1687</th>\n",
              "      <td>['e', 'sala', 'cup', 'namad', 'red', 'heart']</td>\n",
              "      <td>Positive</td>\n",
              "    </tr>\n",
              "    <tr>\n",
              "      <th>1688</th>\n",
              "      <td>['kl']</td>\n",
              "      <td>Positive</td>\n",
              "    </tr>\n",
              "    <tr>\n",
              "      <th>1689</th>\n",
              "      <td>['rcb', 'red', 'heart', 'red', 'heart', 'red',...</td>\n",
              "      <td>Positive</td>\n",
              "    </tr>\n",
              "  </tbody>\n",
              "</table>\n",
              "<p>1690 rows × 2 columns</p>\n",
              "</div>\n",
              "    <div class=\"colab-df-buttons\">\n",
              "\n",
              "  <div class=\"colab-df-container\">\n",
              "    <button class=\"colab-df-convert\" onclick=\"convertToInteractive('df-1580b65a-2da2-41f1-9716-09baa0e4c4aa')\"\n",
              "            title=\"Convert this dataframe to an interactive table.\"\n",
              "            style=\"display:none;\">\n",
              "\n",
              "  <svg xmlns=\"http://www.w3.org/2000/svg\" height=\"24px\" viewBox=\"0 -960 960 960\">\n",
              "    <path d=\"M120-120v-720h720v720H120Zm60-500h600v-160H180v160Zm220 220h160v-160H400v160Zm0 220h160v-160H400v160ZM180-400h160v-160H180v160Zm440 0h160v-160H620v160ZM180-180h160v-160H180v160Zm440 0h160v-160H620v160Z\"/>\n",
              "  </svg>\n",
              "    </button>\n",
              "\n",
              "  <style>\n",
              "    .colab-df-container {\n",
              "      display:flex;\n",
              "      gap: 12px;\n",
              "    }\n",
              "\n",
              "    .colab-df-convert {\n",
              "      background-color: #E8F0FE;\n",
              "      border: none;\n",
              "      border-radius: 50%;\n",
              "      cursor: pointer;\n",
              "      display: none;\n",
              "      fill: #1967D2;\n",
              "      height: 32px;\n",
              "      padding: 0 0 0 0;\n",
              "      width: 32px;\n",
              "    }\n",
              "\n",
              "    .colab-df-convert:hover {\n",
              "      background-color: #E2EBFA;\n",
              "      box-shadow: 0px 1px 2px rgba(60, 64, 67, 0.3), 0px 1px 3px 1px rgba(60, 64, 67, 0.15);\n",
              "      fill: #174EA6;\n",
              "    }\n",
              "\n",
              "    .colab-df-buttons div {\n",
              "      margin-bottom: 4px;\n",
              "    }\n",
              "\n",
              "    [theme=dark] .colab-df-convert {\n",
              "      background-color: #3B4455;\n",
              "      fill: #D2E3FC;\n",
              "    }\n",
              "\n",
              "    [theme=dark] .colab-df-convert:hover {\n",
              "      background-color: #434B5C;\n",
              "      box-shadow: 0px 1px 3px 1px rgba(0, 0, 0, 0.15);\n",
              "      filter: drop-shadow(0px 1px 2px rgba(0, 0, 0, 0.3));\n",
              "      fill: #FFFFFF;\n",
              "    }\n",
              "  </style>\n",
              "\n",
              "    <script>\n",
              "      const buttonEl =\n",
              "        document.querySelector('#df-1580b65a-2da2-41f1-9716-09baa0e4c4aa button.colab-df-convert');\n",
              "      buttonEl.style.display =\n",
              "        google.colab.kernel.accessAllowed ? 'block' : 'none';\n",
              "\n",
              "      async function convertToInteractive(key) {\n",
              "        const element = document.querySelector('#df-1580b65a-2da2-41f1-9716-09baa0e4c4aa');\n",
              "        const dataTable =\n",
              "          await google.colab.kernel.invokeFunction('convertToInteractive',\n",
              "                                                    [key], {});\n",
              "        if (!dataTable) return;\n",
              "\n",
              "        const docLinkHtml = 'Like what you see? Visit the ' +\n",
              "          '<a target=\"_blank\" href=https://colab.research.google.com/notebooks/data_table.ipynb>data table notebook</a>'\n",
              "          + ' to learn more about interactive tables.';\n",
              "        element.innerHTML = '';\n",
              "        dataTable['output_type'] = 'display_data';\n",
              "        await google.colab.output.renderOutput(dataTable, element);\n",
              "        const docLink = document.createElement('div');\n",
              "        docLink.innerHTML = docLinkHtml;\n",
              "        element.appendChild(docLink);\n",
              "      }\n",
              "    </script>\n",
              "  </div>\n",
              "\n",
              "\n",
              "<div id=\"df-6bc0bae9-703d-4c95-8113-b252b69ae6a4\">\n",
              "  <button class=\"colab-df-quickchart\" onclick=\"quickchart('df-6bc0bae9-703d-4c95-8113-b252b69ae6a4')\"\n",
              "            title=\"Suggest charts\"\n",
              "            style=\"display:none;\">\n",
              "\n",
              "<svg xmlns=\"http://www.w3.org/2000/svg\" height=\"24px\"viewBox=\"0 0 24 24\"\n",
              "     width=\"24px\">\n",
              "    <g>\n",
              "        <path d=\"M19 3H5c-1.1 0-2 .9-2 2v14c0 1.1.9 2 2 2h14c1.1 0 2-.9 2-2V5c0-1.1-.9-2-2-2zM9 17H7v-7h2v7zm4 0h-2V7h2v10zm4 0h-2v-4h2v4z\"/>\n",
              "    </g>\n",
              "</svg>\n",
              "  </button>\n",
              "\n",
              "<style>\n",
              "  .colab-df-quickchart {\n",
              "      --bg-color: #E8F0FE;\n",
              "      --fill-color: #1967D2;\n",
              "      --hover-bg-color: #E2EBFA;\n",
              "      --hover-fill-color: #174EA6;\n",
              "      --disabled-fill-color: #AAA;\n",
              "      --disabled-bg-color: #DDD;\n",
              "  }\n",
              "\n",
              "  [theme=dark] .colab-df-quickchart {\n",
              "      --bg-color: #3B4455;\n",
              "      --fill-color: #D2E3FC;\n",
              "      --hover-bg-color: #434B5C;\n",
              "      --hover-fill-color: #FFFFFF;\n",
              "      --disabled-bg-color: #3B4455;\n",
              "      --disabled-fill-color: #666;\n",
              "  }\n",
              "\n",
              "  .colab-df-quickchart {\n",
              "    background-color: var(--bg-color);\n",
              "    border: none;\n",
              "    border-radius: 50%;\n",
              "    cursor: pointer;\n",
              "    display: none;\n",
              "    fill: var(--fill-color);\n",
              "    height: 32px;\n",
              "    padding: 0;\n",
              "    width: 32px;\n",
              "  }\n",
              "\n",
              "  .colab-df-quickchart:hover {\n",
              "    background-color: var(--hover-bg-color);\n",
              "    box-shadow: 0 1px 2px rgba(60, 64, 67, 0.3), 0 1px 3px 1px rgba(60, 64, 67, 0.15);\n",
              "    fill: var(--button-hover-fill-color);\n",
              "  }\n",
              "\n",
              "  .colab-df-quickchart-complete:disabled,\n",
              "  .colab-df-quickchart-complete:disabled:hover {\n",
              "    background-color: var(--disabled-bg-color);\n",
              "    fill: var(--disabled-fill-color);\n",
              "    box-shadow: none;\n",
              "  }\n",
              "\n",
              "  .colab-df-spinner {\n",
              "    border: 2px solid var(--fill-color);\n",
              "    border-color: transparent;\n",
              "    border-bottom-color: var(--fill-color);\n",
              "    animation:\n",
              "      spin 1s steps(1) infinite;\n",
              "  }\n",
              "\n",
              "  @keyframes spin {\n",
              "    0% {\n",
              "      border-color: transparent;\n",
              "      border-bottom-color: var(--fill-color);\n",
              "      border-left-color: var(--fill-color);\n",
              "    }\n",
              "    20% {\n",
              "      border-color: transparent;\n",
              "      border-left-color: var(--fill-color);\n",
              "      border-top-color: var(--fill-color);\n",
              "    }\n",
              "    30% {\n",
              "      border-color: transparent;\n",
              "      border-left-color: var(--fill-color);\n",
              "      border-top-color: var(--fill-color);\n",
              "      border-right-color: var(--fill-color);\n",
              "    }\n",
              "    40% {\n",
              "      border-color: transparent;\n",
              "      border-right-color: var(--fill-color);\n",
              "      border-top-color: var(--fill-color);\n",
              "    }\n",
              "    60% {\n",
              "      border-color: transparent;\n",
              "      border-right-color: var(--fill-color);\n",
              "    }\n",
              "    80% {\n",
              "      border-color: transparent;\n",
              "      border-right-color: var(--fill-color);\n",
              "      border-bottom-color: var(--fill-color);\n",
              "    }\n",
              "    90% {\n",
              "      border-color: transparent;\n",
              "      border-bottom-color: var(--fill-color);\n",
              "    }\n",
              "  }\n",
              "</style>\n",
              "\n",
              "  <script>\n",
              "    async function quickchart(key) {\n",
              "      const quickchartButtonEl =\n",
              "        document.querySelector('#' + key + ' button');\n",
              "      quickchartButtonEl.disabled = true;  // To prevent multiple clicks.\n",
              "      quickchartButtonEl.classList.add('colab-df-spinner');\n",
              "      try {\n",
              "        const charts = await google.colab.kernel.invokeFunction(\n",
              "            'suggestCharts', [key], {});\n",
              "      } catch (error) {\n",
              "        console.error('Error during call to suggestCharts:', error);\n",
              "      }\n",
              "      quickchartButtonEl.classList.remove('colab-df-spinner');\n",
              "      quickchartButtonEl.classList.add('colab-df-quickchart-complete');\n",
              "    }\n",
              "    (() => {\n",
              "      let quickchartButtonEl =\n",
              "        document.querySelector('#df-6bc0bae9-703d-4c95-8113-b252b69ae6a4 button');\n",
              "      quickchartButtonEl.style.display =\n",
              "        google.colab.kernel.accessAllowed ? 'block' : 'none';\n",
              "    })();\n",
              "  </script>\n",
              "</div>\n",
              "\n",
              "    </div>\n",
              "  </div>\n"
            ],
            "application/vnd.google.colaboratory.intrinsic+json": {
              "type": "dataframe",
              "summary": "{\n  \"name\": \"Dataset\",\n  \"rows\": 1690,\n  \"fields\": [\n    {\n      \"column\": \"english_text\",\n      \"properties\": {\n        \"dtype\": \"string\",\n        \"num_unique_values\": 1648,\n        \"samples\": [\n          \"['orang', 'heart', 'orang', 'heart', 'orang', 'heart', 'fire', 'fire', 'fire']\",\n          \"['rohit', 'sharma', 'captain', 'mi']\",\n          \"['mumbai', 'indian', 'analysi', 'top', 'fire', 'fire', 'except', 'ishan', 'kishan', 'wk', 'top']\"\n        ],\n        \"semantic_type\": \"\",\n        \"description\": \"\"\n      }\n    },\n    {\n      \"column\": \"Sentiment\",\n      \"properties\": {\n        \"dtype\": \"category\",\n        \"num_unique_values\": 3,\n        \"samples\": [\n          \"Positive\",\n          \"Neutral\",\n          \"Negative\"\n        ],\n        \"semantic_type\": \"\",\n        \"description\": \"\"\n      }\n    }\n  ]\n}"
            }
          },
          "metadata": {},
          "execution_count": 3
        }
      ],
      "source": [
        "file_path = '/content/drive/MyDrive/Labelled_Dataset.csv'\n",
        "Dataset = pd.read_csv(file_path,encoding='ISO-8859-1')\n",
        "Dataset.dropna()"
      ]
    },
    {
      "cell_type": "markdown",
      "metadata": {
        "id": "reVtnn_anzDM"
      },
      "source": [
        "# Count number of positives, negatives and neutrals"
      ]
    },
    {
      "cell_type": "code",
      "execution_count": null,
      "metadata": {
        "id": "LcRm244qnx5R",
        "colab": {
          "base_uri": "https://localhost:8080/"
        },
        "outputId": "d600564b-754a-48d5-ba33-6ce74940b7a1"
      },
      "outputs": [
        {
          "output_type": "execute_result",
          "data": {
            "text/plain": [
              "Sentiment\n",
              "Positive    1246\n",
              "Neutral      292\n",
              "Negative     152\n",
              "Name: count, dtype: int64"
            ]
          },
          "metadata": {},
          "execution_count": 27
        }
      ],
      "source": [
        "Dataset['Sentiment'].value_counts()\n",
        "\n"
      ]
    },
    {
      "cell_type": "code",
      "execution_count": null,
      "metadata": {
        "id": "fKFPtIH9oai6",
        "colab": {
          "base_uri": "https://localhost:8080/",
          "height": 520
        },
        "outputId": "38350e68-1f2d-41a5-9181-d674f7ba3a7f"
      },
      "outputs": [
        {
          "output_type": "display_data",
          "data": {
            "text/plain": [
              "<Figure size 640x480 with 1 Axes>"
            ],
            "image/png": "[encoded data removed]"
          },
          "metadata": {}
        }
      ],
      "source": [
        "# Counting sentiment occurrences\n",
        "sentiment_counts = Dataset['Sentiment'].value_counts()\n",
        "\n",
        "# Plotting the sentiment distribution\n",
        "import matplotlib.pyplot as plt\n",
        "\n",
        "ax = sentiment_counts.plot(kind='bar')\n",
        "plt.xlabel('Sentiment')\n",
        "plt.ylabel('Count')\n",
        "plt.title('Sentiment Distribution')\n",
        "ax.bar_label(ax.containers[0], label_type='edge', fontsize=10)\n",
        "plt.show()\n"
      ]
    },
    {
      "cell_type": "markdown",
      "metadata": {
        "id": "2os_94II2Hoa"
      },
      "source": [
        "# Split into test and train"
      ]
    },
    {
      "cell_type": "code",
      "execution_count": null,
      "metadata": {
        "id": "yAUs9KH52LSx"
      },
      "outputs": [],
      "source": [
        "X = Dataset['english_text'].astype(str)\n",
        "Y = Dataset['Sentiment']\n",
        "#Split into train and test\n",
        "X_train, X_test, Y_train, Y_test = train_test_split(X,Y, test_size=0.2, random_state=42)\n"
      ]
    },
    {
      "cell_type": "markdown",
      "metadata": {
        "id": "3v-gQZTVyODs"
      },
      "source": [
        "# TF-IDF"
      ]
    },
    {
      "cell_type": "code",
      "execution_count": null,
      "metadata": {
        "id": "FcNfpzOIyNxX",
        "colab": {
          "base_uri": "https://localhost:8080/"
        },
        "outputId": "61e09518-24d0-424e-f195-f4524e22102f"
      },
      "outputs": [
        {
          "output_type": "execute_result",
          "data": {
            "text/plain": [
              "array(['aa', 'aaaaa', 'aah', ..., 'yrr', 'yudi', 'zealand'], dtype=object)"
            ]
          },
          "metadata": {},
          "execution_count": 30
        }
      ],
      "source": [
        "\n",
        "#create a tfidf vectorizer\n",
        "tfidf_vectorizer = TfidfVectorizer(stop_words='english')\n",
        "\n",
        "#Fit and transform the training data\n",
        "X_tfidf_train = tfidf_vectorizer.fit_transform(X_train)\n",
        "\n",
        "#Fit and transform the testing data\n",
        "X_tfidf_test  = tfidf_vectorizer.transform(X_test)\n",
        "\n",
        "tfidf_vectorizer.get_feature_names_out()\n"
      ]
    },
    {
      "cell_type": "markdown",
      "source": [
        "# Tranining the model"
      ],
      "metadata": {
        "id": "2Lfjq60yXbDz"
      }
    },
    {
      "cell_type": "code",
      "execution_count": null,
      "metadata": {
        "id": "J08fL2IE6ppR"
      },
      "outputs": [],
      "source": [
        "from sklearn.model_selection import train_test_split\n",
        "from sklearn.naive_bayes import MultinomialNB\n",
        "\n",
        "# Create and train a Multinomial Naive Bayes classifier\n",
        "naive_bayes_classifier = MultinomialNB()\n",
        "naive_bayes_classifier.fit(X_tfidf_train, Y_train)\n",
        "\n",
        "# Predictions on the test set\n",
        "y_naive_pred = naive_bayes_classifier.predict(X_tfidf_test)\n",
        "\n",
        "\n",
        "#For SVM\n",
        "from sklearn.svm import SVC\n",
        "svm_classifier = SVC(kernel='linear', random_state=42)\n",
        "svm_classifier.fit(X_tfidf_train, Y_train)\n",
        "\n",
        "# Predictions on the test set\n",
        "y_svm_pred = svm_classifier.predict(X_tfidf_test)\n",
        "\n",
        "from sklearn.ensemble import RandomForestClassifier\n",
        "\n",
        "# Create a Random Forest classifier\n",
        "random_forest_classifier = RandomForestClassifier(random_state=42)\n",
        "\n",
        "# Fit the classifier on the training data\n",
        "random_forest_classifier.fit(X_tfidf_train, Y_train)\n",
        "\n",
        "# Predictions on the test set\n",
        "y_random_pred = random_forest_classifier.predict(X_tfidf_test)\n",
        "\n",
        "from sklearn.naive_bayes import GaussianNB\n",
        "import numpy as np\n",
        "\n",
        "# Assuming Gaussian distribution for the features\n",
        "# Convert sparse matrix to dense matrix\n",
        "X_dense_train = X_tfidf_train.toarray()\n",
        "X_dense_test = X_tfidf_test.toarray()\n",
        "\n",
        "# Create and train a Gaussian Naive Bayes classifier\n",
        "gaussian_classifier = GaussianNB()\n",
        "gaussian_classifier.fit(X_dense_train, Y_train)\n",
        "\n",
        "# Predictions on the test set\n",
        "y_gaussian_pred = gaussian_classifier.predict(X_dense_test)\n"
      ]
    },
    {
      "cell_type": "markdown",
      "source": [
        "# Evaluating the accuracy with TF-IDF"
      ],
      "metadata": {
        "id": "xNt88IvfKB5E"
      }
    },
    {
      "cell_type": "code",
      "source": [
        "# Evaluate the Multinomial model\n",
        "naive_tfidf_accuracy = accuracy_score(Y_test, y_pred = naive_bayes_classifier.predict(X_tfidf_test)\n",
        ")\n",
        "print(\"The accuracy with tfidf and naive bayes (Multinomial) is\", naive_tfidf_accuracy)\n",
        "\n",
        "naive_tfidf_gaussian_accuracy = accuracy_score(Y_test, y_gaussian_pred)\n",
        "\n",
        "print(\"The accuracy with tfidf and naive bayes (Gaussian) is:\", naive_tfidf_gaussian_accuracy)\n",
        "\n",
        "# Evaluate the model\n",
        "svm_tfidf_accuracy = accuracy_score(Y_test, y_svm_pred)\n",
        "print(\"The accuracy with tfidf and SVM  is\",svm_tfidf_accuracy)\n",
        "\n",
        "# Evaluate the model\n",
        "random_tfidf_accuracy = accuracy_score(Y_test, y_random_pred)\n",
        "print(\"The accuracy with tfidf and Random Forest is\", random_tfidf_accuracy)\n"
      ],
      "metadata": {
        "id": "j-evLm28XaOP",
        "colab": {
          "base_uri": "https://localhost:8080/"
        },
        "outputId": "a1c27bcb-783c-4edb-a32b-fbc7265dc747"
      },
      "execution_count": null,
      "outputs": [
        {
          "output_type": "stream",
          "name": "stdout",
          "text": [
            "The accuracy with tfidf and naive bayes (Multinomial) is 0.7248520710059172\n",
            "The accuracy with tfidf and naive bayes (Gaussian) is: 0.4467455621301775\n",
            "The accuracy with tfidf and SVM  is 0.7633136094674556\n",
            "The accuracy with tfidf and Random Forest is 0.7337278106508875\n"
          ]
        }
      ]
    },
    {
      "cell_type": "markdown",
      "metadata": {
        "id": "DsW9Nr_K2YsA"
      },
      "source": [
        "#Bag Of Words"
      ]
    },
    {
      "cell_type": "code",
      "execution_count": null,
      "metadata": {
        "id": "iNqIpg0Z2c3u",
        "colab": {
          "base_uri": "https://localhost:8080/"
        },
        "outputId": "5579e66b-398a-4718-e4d5-a55c2b320415"
      },
      "outputs": [
        {
          "output_type": "execute_result",
          "data": {
            "text/plain": [
              "array(['aa', 'aaaaa', 'aah', ..., 'yrr', 'yudi', 'zealand'], dtype=object)"
            ]
          },
          "metadata": {},
          "execution_count": 34
        }
      ],
      "source": [
        "from sklearn.feature_extraction.text import CountVectorizer\n",
        "\n",
        "vectorizer = CountVectorizer(stop_words='english')\n",
        "\n",
        "#Fit and Transform the training data\n",
        "X_cv_train = vectorizer.fit_transform(X_train)\n",
        "#Fit and transform the testing data\n",
        "X_cv_test = vectorizer.transform(X_test)\n",
        "vectorizer.get_feature_names_out()\n"
      ]
    },
    {
      "cell_type": "markdown",
      "source": [
        "Naive Bayes"
      ],
      "metadata": {
        "id": "MpF-ueFSkwck"
      }
    },
    {
      "cell_type": "code",
      "source": [
        "#Naive Bayes classifier\n",
        "naive_bayes_classifier.fit(X_cv_train, Y_train)\n",
        "# Predictions on the test set\n",
        "y_pred = naive_bayes_classifier.predict(X_cv_test)\n",
        "\n",
        "X_dense_train = X_cv_train.toarray()\n",
        "X_dense_test = X_cv_test.toarray()\n",
        "\n",
        "# Create and train a Gaussian Naive Bayes classifier\n",
        "gaussian_classifier = GaussianNB()\n",
        "gaussian_classifier.fit(X_dense_train, Y_train)\n",
        "\n",
        "# Predictions on the test set\n",
        "y_gaussian_pred = gaussian_classifier.predict(X_dense_test)\n",
        "\n",
        "#SVM\n",
        "svm_classifier.fit(X_cv_train, Y_train)\n",
        "\n",
        "# Predictions on the test set\n",
        "y_SVM_pred = svm_classifier.predict(X_cv_test)\n",
        "\n",
        "#Random Forest\n",
        "random_forest_classifier.fit(X_cv_train, Y_train)\n",
        "\n",
        "# Predictions on the test set\n",
        "y_random_pred = random_forest_classifier.predict(X_cv_test)\n"
      ],
      "metadata": {
        "id": "CVuMpTx7Whai"
      },
      "execution_count": null,
      "outputs": []
    },
    {
      "cell_type": "markdown",
      "source": [
        "Accuracy with SVM, Naive and RandomForest with Bag of Words\n",
        "---\n",
        "\n"
      ],
      "metadata": {
        "id": "Ba8n_fsjkzmN"
      }
    },
    {
      "cell_type": "code",
      "source": [
        "# Evaluate the model\n",
        "naive_cv_accuracy = accuracy_score(Y_test, y_pred)\n",
        "print(\"The accuracy with BOW and Naive (Multinomial) is\",naive_cv_accuracy)\n",
        "\n",
        "naive_cv_gaussian_accuracy = accuracy_score(Y_test,y_gaussian_pred)\n",
        "print(\"The accuracy with tfidf and naive bayes (Gaussian) is:\", naive_tfidf_gaussian_accuracy)\n",
        "\n",
        "# Evaluate the model\n",
        "svm_cv_accuracy = accuracy_score(Y_test, y_SVM_pred)\n",
        "print(\"The accuracy with BOW and SVM is\",svm_cv_accuracy)\n",
        "\n",
        "random_cv_accuracy = accuracy_score(Y_test, y_random_pred)\n",
        "print(\"The accuracy with BOW and RandomForest (Multinomial) is:\", random_cv_accuracy)"
      ],
      "metadata": {
        "colab": {
          "base_uri": "https://localhost:8080/"
        },
        "id": "COeH9qa4az3R",
        "outputId": "952f18ef-1915-425d-bb07-e93778737596"
      },
      "execution_count": null,
      "outputs": [
        {
          "output_type": "stream",
          "name": "stdout",
          "text": [
            "The accuracy with BOW and Naive (Multinomial) is 0.7603550295857988\n",
            "The accuracy with tfidf and naive bayes (Gaussian) is: 0.4467455621301775\n",
            "The accuracy with BOW and SVM is 0.742603550295858\n",
            "The accuracy with BOW and RandomForest (Multinomial) is: 0.742603550295858\n"
          ]
        }
      ]
    },
    {
      "cell_type": "markdown",
      "source": [
        "#"
      ],
      "metadata": {
        "id": "vzv9FP0fk9gf"
      }
    },
    {
      "cell_type": "code",
      "source": [
        "dataset = pd.read_csv('/content/drive/MyDrive/IPL.csv', encoding='latin1')\n",
        "dataset"
      ],
      "metadata": {
        "colab": {
          "base_uri": "https://localhost:8080/",
          "height": 424
        },
        "id": "WT7wYpWMtpHF",
        "outputId": "c54b4e5b-71c4-4440-9427-c60321883598"
      },
      "execution_count": null,
      "outputs": [
        {
          "output_type": "execute_result",
          "data": {
            "text/plain": [
              "       Unnamed: 0.1 Unnamed: 0             author  \\\n",
              "0                 0          0  @SumitGupta-it6ic   \n",
              "1                 1          1      @Mrhameedraza   \n",
              "2                 2          2      @Mrhameedraza   \n",
              "3                 3          3     @ShiaLovERs572   \n",
              "4                 4          4     @ShiaLovERs572   \n",
              "...             ...        ...                ...   \n",
              "30935         30935      30827  @Ustaadgaming4564   \n",
              "30936         30936      30828       @quincric897   \n",
              "30937         30937      30829     @aasifraza3896   \n",
              "30938         30938      30830       @quincric897   \n",
              "30939         30939      30831  @Ustaadgaming4564   \n",
              "\n",
              "                                                    text  \\\n",
              "0      bhai lsg ke paas ipl ke is season ka sabse kha...   \n",
              "1                 Saare team tere ammi Ki pass pahuchegi   \n",
              "2      Sale Sare team Mein weekness Hai To Tu Hi Chal...   \n",
              "3                                               ðð   \n",
              "4                        KkR ðð Final Winners ð   \n",
              "...                                                  ...   \n",
              "30935  à¤à¥à¤¨ à¤à¥à¤¨ à¤à¤¾à¤¹à¤¤à¤¾ à¤¹à¥ à¤...   \n",
              "30936  à¤à¥à¤¨-à¤à¥à¤¨ à¤®à¤¹à¥à¤à¤¦à¥à¤° à¤¸à...   \n",
              "30937                                          â¤â¤â¤   \n",
              "30938  à¤à¥à¤¨-à¤à¥à¤¨ à¤à¥à¤¨à¥à¤¨à¤ à¤¸à¥à...   \n",
              "30939  à¤à¥à¤¨ à¤à¥à¤¨ à¤°à¥à¤¹à¤¿à¤¤ à¤¶à¤°à¥à...   \n",
              "\n",
              "                                            english_text  \n",
              "0      Brother, the most dangerous pacer of this seas...  \n",
              "1                  All the teams will reach your mother.  \n",
              "2      There is weakness in the whole team so that yo...  \n",
              "3              :purple_heart:  :smiling_face_with_horns:  \n",
              "4      KkR  :purple_heart:  :smiling_face_with_horns:...  \n",
              "...                                                  ...  \n",
              "30935  Who wants Rohit Sharma to captain the T20 Worl...  \n",
              "30936  Who is a fan of Mahendra Singh Dhoni by heart ...  \n",
              "30937              :red_heart:  :red_heart:  :red_heart:  \n",
              "30938  Who wholeheartedly supports Chennai Super King...  \n",
              "30939  Who is a fan of Rohit Sharma by heart :red_hea...  \n",
              "\n",
              "[30940 rows x 5 columns]"
            ],
            "text/html": [
              "\n",
              "  <div id=\"df-b7549642-3959-44a2-99d3-6e429516fd7f\" class=\"colab-df-container\">\n",
              "    <div>\n",
              "<style scoped>\n",
              "    .dataframe tbody tr th:only-of-type {\n",
              "        vertical-align: middle;\n",
              "    }\n",
              "\n",
              "    .dataframe tbody tr th {\n",
              "        vertical-align: top;\n",
              "    }\n",
              "\n",
              "    .dataframe thead th {\n",
              "        text-align: right;\n",
              "    }\n",
              "</style>\n",
              "<table border=\"1\" class=\"dataframe\">\n",
              "  <thead>\n",
              "    <tr style=\"text-align: right;\">\n",
              "      <th></th>\n",
              "      <th>Unnamed: 0.1</th>\n",
              "      <th>Unnamed: 0</th>\n",
              "      <th>author</th>\n",
              "      <th>text</th>\n",
              "      <th>english_text</th>\n",
              "    </tr>\n",
              "  </thead>\n",
              "  <tbody>\n",
              "    <tr>\n",
              "      <th>0</th>\n",
              "      <td>0</td>\n",
              "      <td>0</td>\n",
              "      <td>@SumitGupta-it6ic</td>\n",
              "      <td>bhai lsg ke paas ipl ke is season ka sabse kha...</td>\n",
              "      <td>Brother, the most dangerous pacer of this seas...</td>\n",
              "    </tr>\n",
              "    <tr>\n",
              "      <th>1</th>\n",
              "      <td>1</td>\n",
              "      <td>1</td>\n",
              "      <td>@Mrhameedraza</td>\n",
              "      <td>Saare team tere ammi Ki pass pahuchegi</td>\n",
              "      <td>All the teams will reach your mother.</td>\n",
              "    </tr>\n",
              "    <tr>\n",
              "      <th>2</th>\n",
              "      <td>2</td>\n",
              "      <td>2</td>\n",
              "      <td>@Mrhameedraza</td>\n",
              "      <td>Sale Sare team Mein weekness Hai To Tu Hi Chal...</td>\n",
              "      <td>There is weakness in the whole team so that yo...</td>\n",
              "    </tr>\n",
              "    <tr>\n",
              "      <th>3</th>\n",
              "      <td>3</td>\n",
              "      <td>3</td>\n",
              "      <td>@ShiaLovERs572</td>\n",
              "      <td>ðð</td>\n",
              "      <td>:purple_heart:  :smiling_face_with_horns:</td>\n",
              "    </tr>\n",
              "    <tr>\n",
              "      <th>4</th>\n",
              "      <td>4</td>\n",
              "      <td>4</td>\n",
              "      <td>@ShiaLovERs572</td>\n",
              "      <td>KkR ðð Final Winners ð</td>\n",
              "      <td>KkR  :purple_heart:  :smiling_face_with_horns:...</td>\n",
              "    </tr>\n",
              "    <tr>\n",
              "      <th>...</th>\n",
              "      <td>...</td>\n",
              "      <td>...</td>\n",
              "      <td>...</td>\n",
              "      <td>...</td>\n",
              "      <td>...</td>\n",
              "    </tr>\n",
              "    <tr>\n",
              "      <th>30935</th>\n",
              "      <td>30935</td>\n",
              "      <td>30827</td>\n",
              "      <td>@Ustaadgaming4564</td>\n",
              "      <td>à¤à¥à¤¨ à¤à¥à¤¨ à¤à¤¾à¤¹à¤¤à¤¾ à¤¹à¥ à¤...</td>\n",
              "      <td>Who wants Rohit Sharma to captain the T20 Worl...</td>\n",
              "    </tr>\n",
              "    <tr>\n",
              "      <th>30936</th>\n",
              "      <td>30936</td>\n",
              "      <td>30828</td>\n",
              "      <td>@quincric897</td>\n",
              "      <td>à¤à¥à¤¨-à¤à¥à¤¨ à¤®à¤¹à¥à¤à¤¦à¥à¤° à¤¸à...</td>\n",
              "      <td>Who is a fan of Mahendra Singh Dhoni by heart ...</td>\n",
              "    </tr>\n",
              "    <tr>\n",
              "      <th>30937</th>\n",
              "      <td>30937</td>\n",
              "      <td>30829</td>\n",
              "      <td>@aasifraza3896</td>\n",
              "      <td>â¤â¤â¤</td>\n",
              "      <td>:red_heart:  :red_heart:  :red_heart:</td>\n",
              "    </tr>\n",
              "    <tr>\n",
              "      <th>30938</th>\n",
              "      <td>30938</td>\n",
              "      <td>30830</td>\n",
              "      <td>@quincric897</td>\n",
              "      <td>à¤à¥à¤¨-à¤à¥à¤¨ à¤à¥à¤¨à¥à¤¨à¤ à¤¸à¥à...</td>\n",
              "      <td>Who wholeheartedly supports Chennai Super King...</td>\n",
              "    </tr>\n",
              "    <tr>\n",
              "      <th>30939</th>\n",
              "      <td>30939</td>\n",
              "      <td>30831</td>\n",
              "      <td>@Ustaadgaming4564</td>\n",
              "      <td>à¤à¥à¤¨ à¤à¥à¤¨ à¤°à¥à¤¹à¤¿à¤¤ à¤¶à¤°à¥à...</td>\n",
              "      <td>Who is a fan of Rohit Sharma by heart :red_hea...</td>\n",
              "    </tr>\n",
              "  </tbody>\n",
              "</table>\n",
              "<p>30940 rows × 5 columns</p>\n",
              "</div>\n",
              "    <div class=\"colab-df-buttons\">\n",
              "\n",
              "  <div class=\"colab-df-container\">\n",
              "    <button class=\"colab-df-convert\" onclick=\"convertToInteractive('df-b7549642-3959-44a2-99d3-6e429516fd7f')\"\n",
              "            title=\"Convert this dataframe to an interactive table.\"\n",
              "            style=\"display:none;\">\n",
              "\n",
              "  <svg xmlns=\"http://www.w3.org/2000/svg\" height=\"24px\" viewBox=\"0 -960 960 960\">\n",
              "    <path d=\"M120-120v-720h720v720H120Zm60-500h600v-160H180v160Zm220 220h160v-160H400v160Zm0 220h160v-160H400v160ZM180-400h160v-160H180v160Zm440 0h160v-160H620v160ZM180-180h160v-160H180v160Zm440 0h160v-160H620v160Z\"/>\n",
              "  </svg>\n",
              "    </button>\n",
              "\n",
              "  <style>\n",
              "    .colab-df-container {\n",
              "      display:flex;\n",
              "      gap: 12px;\n",
              "    }\n",
              "\n",
              "    .colab-df-convert {\n",
              "      background-color: #E8F0FE;\n",
              "      border: none;\n",
              "      border-radius: 50%;\n",
              "      cursor: pointer;\n",
              "      display: none;\n",
              "      fill: #1967D2;\n",
              "      height: 32px;\n",
              "      padding: 0 0 0 0;\n",
              "      width: 32px;\n",
              "    }\n",
              "\n",
              "    .colab-df-convert:hover {\n",
              "      background-color: #E2EBFA;\n",
              "      box-shadow: 0px 1px 2px rgba(60, 64, 67, 0.3), 0px 1px 3px 1px rgba(60, 64, 67, 0.15);\n",
              "      fill: #174EA6;\n",
              "    }\n",
              "\n",
              "    .colab-df-buttons div {\n",
              "      margin-bottom: 4px;\n",
              "    }\n",
              "\n",
              "    [theme=dark] .colab-df-convert {\n",
              "      background-color: #3B4455;\n",
              "      fill: #D2E3FC;\n",
              "    }\n",
              "\n",
              "    [theme=dark] .colab-df-convert:hover {\n",
              "      background-color: #434B5C;\n",
              "      box-shadow: 0px 1px 3px 1px rgba(0, 0, 0, 0.15);\n",
              "      filter: drop-shadow(0px 1px 2px rgba(0, 0, 0, 0.3));\n",
              "      fill: #FFFFFF;\n",
              "    }\n",
              "  </style>\n",
              "\n",
              "    <script>\n",
              "      const buttonEl =\n",
              "        document.querySelector('#df-b7549642-3959-44a2-99d3-6e429516fd7f button.colab-df-convert');\n",
              "      buttonEl.style.display =\n",
              "        google.colab.kernel.accessAllowed ? 'block' : 'none';\n",
              "\n",
              "      async function convertToInteractive(key) {\n",
              "        const element = document.querySelector('#df-b7549642-3959-44a2-99d3-6e429516fd7f');\n",
              "        const dataTable =\n",
              "          await google.colab.kernel.invokeFunction('convertToInteractive',\n",
              "                                                    [key], {});\n",
              "        if (!dataTable) return;\n",
              "\n",
              "        const docLinkHtml = 'Like what you see? Visit the ' +\n",
              "          '<a target=\"_blank\" href=https://colab.research.google.com/notebooks/data_table.ipynb>data table notebook</a>'\n",
              "          + ' to learn more about interactive tables.';\n",
              "        element.innerHTML = '';\n",
              "        dataTable['output_type'] = 'display_data';\n",
              "        await google.colab.output.renderOutput(dataTable, element);\n",
              "        const docLink = document.createElement('div');\n",
              "        docLink.innerHTML = docLinkHtml;\n",
              "        element.appendChild(docLink);\n",
              "      }\n",
              "    </script>\n",
              "  </div>\n",
              "\n",
              "\n",
              "<div id=\"df-6642bf35-cfc1-47e5-9ddf-fcc1353abe08\">\n",
              "  <button class=\"colab-df-quickchart\" onclick=\"quickchart('df-6642bf35-cfc1-47e5-9ddf-fcc1353abe08')\"\n",
              "            title=\"Suggest charts\"\n",
              "            style=\"display:none;\">\n",
              "\n",
              "<svg xmlns=\"http://www.w3.org/2000/svg\" height=\"24px\"viewBox=\"0 0 24 24\"\n",
              "     width=\"24px\">\n",
              "    <g>\n",
              "        <path d=\"M19 3H5c-1.1 0-2 .9-2 2v14c0 1.1.9 2 2 2h14c1.1 0 2-.9 2-2V5c0-1.1-.9-2-2-2zM9 17H7v-7h2v7zm4 0h-2V7h2v10zm4 0h-2v-4h2v4z\"/>\n",
              "    </g>\n",
              "</svg>\n",
              "  </button>\n",
              "\n",
              "<style>\n",
              "  .colab-df-quickchart {\n",
              "      --bg-color: #E8F0FE;\n",
              "      --fill-color: #1967D2;\n",
              "      --hover-bg-color: #E2EBFA;\n",
              "      --hover-fill-color: #174EA6;\n",
              "      --disabled-fill-color: #AAA;\n",
              "      --disabled-bg-color: #DDD;\n",
              "  }\n",
              "\n",
              "  [theme=dark] .colab-df-quickchart {\n",
              "      --bg-color: #3B4455;\n",
              "      --fill-color: #D2E3FC;\n",
              "      --hover-bg-color: #434B5C;\n",
              "      --hover-fill-color: #FFFFFF;\n",
              "      --disabled-bg-color: #3B4455;\n",
              "      --disabled-fill-color: #666;\n",
              "  }\n",
              "\n",
              "  .colab-df-quickchart {\n",
              "    background-color: var(--bg-color);\n",
              "    border: none;\n",
              "    border-radius: 50%;\n",
              "    cursor: pointer;\n",
              "    display: none;\n",
              "    fill: var(--fill-color);\n",
              "    height: 32px;\n",
              "    padding: 0;\n",
              "    width: 32px;\n",
              "  }\n",
              "\n",
              "  .colab-df-quickchart:hover {\n",
              "    background-color: var(--hover-bg-color);\n",
              "    box-shadow: 0 1px 2px rgba(60, 64, 67, 0.3), 0 1px 3px 1px rgba(60, 64, 67, 0.15);\n",
              "    fill: var(--button-hover-fill-color);\n",
              "  }\n",
              "\n",
              "  .colab-df-quickchart-complete:disabled,\n",
              "  .colab-df-quickchart-complete:disabled:hover {\n",
              "    background-color: var(--disabled-bg-color);\n",
              "    fill: var(--disabled-fill-color);\n",
              "    box-shadow: none;\n",
              "  }\n",
              "\n",
              "  .colab-df-spinner {\n",
              "    border: 2px solid var(--fill-color);\n",
              "    border-color: transparent;\n",
              "    border-bottom-color: var(--fill-color);\n",
              "    animation:\n",
              "      spin 1s steps(1) infinite;\n",
              "  }\n",
              "\n",
              "  @keyframes spin {\n",
              "    0% {\n",
              "      border-color: transparent;\n",
              "      border-bottom-color: var(--fill-color);\n",
              "      border-left-color: var(--fill-color);\n",
              "    }\n",
              "    20% {\n",
              "      border-color: transparent;\n",
              "      border-left-color: var(--fill-color);\n",
              "      border-top-color: var(--fill-color);\n",
              "    }\n",
              "    30% {\n",
              "      border-color: transparent;\n",
              "      border-left-color: var(--fill-color);\n",
              "      border-top-color: var(--fill-color);\n",
              "      border-right-color: var(--fill-color);\n",
              "    }\n",
              "    40% {\n",
              "      border-color: transparent;\n",
              "      border-right-color: var(--fill-color);\n",
              "      border-top-color: var(--fill-color);\n",
              "    }\n",
              "    60% {\n",
              "      border-color: transparent;\n",
              "      border-right-color: var(--fill-color);\n",
              "    }\n",
              "    80% {\n",
              "      border-color: transparent;\n",
              "      border-right-color: var(--fill-color);\n",
              "      border-bottom-color: var(--fill-color);\n",
              "    }\n",
              "    90% {\n",
              "      border-color: transparent;\n",
              "      border-bottom-color: var(--fill-color);\n",
              "    }\n",
              "  }\n",
              "</style>\n",
              "\n",
              "  <script>\n",
              "    async function quickchart(key) {\n",
              "      const quickchartButtonEl =\n",
              "        document.querySelector('#' + key + ' button');\n",
              "      quickchartButtonEl.disabled = true;  // To prevent multiple clicks.\n",
              "      quickchartButtonEl.classList.add('colab-df-spinner');\n",
              "      try {\n",
              "        const charts = await google.colab.kernel.invokeFunction(\n",
              "            'suggestCharts', [key], {});\n",
              "      } catch (error) {\n",
              "        console.error('Error during call to suggestCharts:', error);\n",
              "      }\n",
              "      quickchartButtonEl.classList.remove('colab-df-spinner');\n",
              "      quickchartButtonEl.classList.add('colab-df-quickchart-complete');\n",
              "    }\n",
              "    (() => {\n",
              "      let quickchartButtonEl =\n",
              "        document.querySelector('#df-6642bf35-cfc1-47e5-9ddf-fcc1353abe08 button');\n",
              "      quickchartButtonEl.style.display =\n",
              "        google.colab.kernel.accessAllowed ? 'block' : 'none';\n",
              "    })();\n",
              "  </script>\n",
              "</div>\n",
              "\n",
              "  <div id=\"id_a54e9e3c-2c16-45fa-aade-025bbb18020b\">\n",
              "    <style>\n",
              "      .colab-df-generate {\n",
              "        background-color: #E8F0FE;\n",
              "        border: none;\n",
              "        border-radius: 50%;\n",
              "        cursor: pointer;\n",
              "        display: none;\n",
              "        fill: #1967D2;\n",
              "        height: 32px;\n",
              "        padding: 0 0 0 0;\n",
              "        width: 32px;\n",
              "      }\n",
              "\n",
              "      .colab-df-generate:hover {\n",
              "        background-color: #E2EBFA;\n",
              "        box-shadow: 0px 1px 2px rgba(60, 64, 67, 0.3), 0px 1px 3px 1px rgba(60, 64, 67, 0.15);\n",
              "        fill: #174EA6;\n",
              "      }\n",
              "\n",
              "      [theme=dark] .colab-df-generate {\n",
              "        background-color: #3B4455;\n",
              "        fill: #D2E3FC;\n",
              "      }\n",
              "\n",
              "      [theme=dark] .colab-df-generate:hover {\n",
              "        background-color: #434B5C;\n",
              "        box-shadow: 0px 1px 3px 1px rgba(0, 0, 0, 0.15);\n",
              "        filter: drop-shadow(0px 1px 2px rgba(0, 0, 0, 0.3));\n",
              "        fill: #FFFFFF;\n",
              "      }\n",
              "    </style>\n",
              "    <button class=\"colab-df-generate\" onclick=\"generateWithVariable('dataset')\"\n",
              "            title=\"Generate code using this dataframe.\"\n",
              "            style=\"display:none;\">\n",
              "\n",
              "  <svg xmlns=\"http://www.w3.org/2000/svg\" height=\"24px\"viewBox=\"0 0 24 24\"\n",
              "       width=\"24px\">\n",
              "    <path d=\"M7,19H8.4L18.45,9,17,7.55,7,17.6ZM5,21V16.75L18.45,3.32a2,2,0,0,1,2.83,0l1.4,1.43a1.91,1.91,0,0,1,.58,1.4,1.91,1.91,0,0,1-.58,1.4L9.25,21ZM18.45,9,17,7.55Zm-12,3A5.31,5.31,0,0,0,4.9,8.1,5.31,5.31,0,0,0,1,6.5,5.31,5.31,0,0,0,4.9,4.9,5.31,5.31,0,0,0,6.5,1,5.31,5.31,0,0,0,8.1,4.9,5.31,5.31,0,0,0,12,6.5,5.46,5.46,0,0,0,6.5,12Z\"/>\n",
              "  </svg>\n",
              "    </button>\n",
              "    <script>\n",
              "      (() => {\n",
              "      const buttonEl =\n",
              "        document.querySelector('#id_a54e9e3c-2c16-45fa-aade-025bbb18020b button.colab-df-generate');\n",
              "      buttonEl.style.display =\n",
              "        google.colab.kernel.accessAllowed ? 'block' : 'none';\n",
              "\n",
              "      buttonEl.onclick = () => {\n",
              "        google.colab.notebook.generateWithVariable('dataset');\n",
              "      }\n",
              "      })();\n",
              "    </script>\n",
              "  </div>\n",
              "\n",
              "    </div>\n",
              "  </div>\n"
            ],
            "application/vnd.google.colaboratory.intrinsic+json": {
              "type": "dataframe",
              "variable_name": "dataset",
              "summary": "{\n  \"name\": \"dataset\",\n  \"rows\": 30940,\n  \"fields\": [\n    {\n      \"column\": \"Unnamed: 0.1\",\n      \"properties\": {\n        \"dtype\": \"number\",\n        \"std\": 8930,\n        \"min\": 0,\n        \"max\": 30939,\n        \"num_unique_values\": 30897,\n        \"samples\": [\n          16690,\n          23826,\n          1092\n        ],\n        \"semantic_type\": \"\",\n        \"description\": \"\"\n      }\n    },\n    {\n      \"column\": \"Unnamed: 0\",\n      \"properties\": {\n        \"dtype\": \"string\",\n        \"num_unique_values\": 30885,\n        \"samples\": [\n          \"6404\",\n          \"30698\",\n          \"12747\"\n        ],\n        \"semantic_type\": \"\",\n        \"description\": \"\"\n      }\n    },\n    {\n      \"column\": \"author\",\n      \"properties\": {\n        \"dtype\": \"string\",\n        \"num_unique_values\": 25644,\n        \"samples\": [\n          \"@sandeepsahu-ln2ww\",\n          \"@hetukani6493\",\n          \"@manish_masti07\"\n        ],\n        \"semantic_type\": \"\",\n        \"description\": \"\"\n      }\n    },\n    {\n      \"column\": \"text\",\n      \"properties\": {\n        \"dtype\": \"string\",\n        \"num_unique_values\": 26191,\n        \"samples\": [\n          \"I enjoyed your video but why didn&#39;t you talk about Mustafizur Rahman? Why you skipped him?\",\n          \"Respect button  thala for rijan csk\\u00e2\\u009d\\u00a4\\u00e2\\u009d\\u00a4\\u00f0\\u009f\\u008e\\u0089\",\n          \"\\u00e0\\u00a4\\u00b6\\u00e0\\u00a5\\u008d\\u00e0\\u00a4\\u00b0\\u00e0\\u00a5\\u0087\\u00e0\\u00a4\\u00af\\u00e0\\u00a4\\u00b6 \\u00e0\\u00a4\\u0085\\u00e0\\u00a4\\u00af\\u00e0\\u00a5\\u008d\\u00e0\\u00a4\\u00af\\u00e0\\u00a4\\u00b0 \\u00e0\\u00a4\\u0095\\u00e0\\u00a5\\u0080 \\u00e0\\u00a4\\u009c\\u00e0\\u00a4\\u0097\\u00e0\\u00a4\\u00b9 \\u00e0\\u00a4\\u0085\\u00e0\\u00a4\\u0097\\u00e0\\u00a4\\u00b0 \\u00e0\\u00a4\\u00b0\\u00e0\\u00a4\\u00bf\\u00e0\\u00a4\\u0082\\u00e0\\u00a4\\u0095\\u00e0\\u00a5\\u0081 \\u00e0\\u00a4\\u00b8\\u00e0\\u00a4\\u00bf\\u00e0\\u00a4\\u0082\\u00e0\\u00a4\\u00b9 \\u00e0\\u00a4\\u0086\\u00e0\\u00a4\\u00a4\\u00e0\\u00a4\\u00be \\u00e0\\u00a4\\u00a4\\u00e0\\u00a5\\u008b 272 \\u00e0\\u00a4\\u0095\\u00e0\\u00a5\\u0080 \\u00e0\\u00a4\\u009c\\u00e0\\u00a4\\u0097\\u00e0\\u00a4\\u00b9 \\u00e0\\u00a4\\u00b8\\u00e0\\u00a5\\u008d\\u00e0\\u00a4\\u0095\\u00e0\\u00a5\\u008b\\u00e0\\u00a4\\u00b0 300 \\u00e0\\u00a4\\u00aa\\u00e0\\u00a4\\u00be\\u00e0\\u00a4\\u00b0 \\u00e0\\u00a4\\u00b9\\u00e0\\u00a5\\u008b \\u00e0\\u00a4\\u009c\\u00e0\\u00a4\\u00be\\u00e0\\u00a4\\u00a4\\u00e0\\u00a4\\u00be\"\n        ],\n        \"semantic_type\": \"\",\n        \"description\": \"\"\n      }\n    },\n    {\n      \"column\": \"english_text\",\n      \"properties\": {\n        \"dtype\": \"string\",\n        \"num_unique_values\": 26112,\n        \"samples\": [\n          \"How to give such a good prediction of every match.\",\n          \"Friends, you have placed milky bets on 4RABeT, see who can win the most in IPL :handshake:\",\n          \"Virat is the Power House of RCB...What we like the most about him is his commitment and dedication.  :clapping_hands:  :clapping_hands:\"\n        ],\n        \"semantic_type\": \"\",\n        \"description\": \"\"\n      }\n    }\n  ]\n}"
            }
          },
          "metadata": {},
          "execution_count": 37
        }
      ]
    },
    {
      "cell_type": "code",
      "source": [
        "import re\n",
        "\n",
        "texts = []\n",
        "for i in range(len(dataset)):\n",
        "    if isinstance(dataset['english_text'][i], str):  # Check if the value is a string\n",
        "        text = re.sub('[^a-zA-Z]', ' ', dataset['english_text'][i])\n",
        "        text = text.lower()\n",
        "        text = text.split()\n",
        "        x = len(text) if text.count('https') == 0 else text.index('https')\n",
        "        text = text[:x]\n",
        "        text = [t for t in text if not t == 'https']\n",
        "        text = ' '.join(text)\n",
        "        texts.append(text)\n"
      ],
      "metadata": {
        "id": "N55g441xt6lL"
      },
      "execution_count": null,
      "outputs": []
    },
    {
      "cell_type": "code",
      "source": [
        "print(len(texts))"
      ],
      "metadata": {
        "colab": {
          "base_uri": "https://localhost:8080/"
        },
        "id": "c28mvO0_uN6W",
        "outputId": "3325a7dd-8701-4558-bcb5-0caf31dff9eb"
      },
      "execution_count": null,
      "outputs": [
        {
          "output_type": "stream",
          "name": "stdout",
          "text": [
            "30940\n"
          ]
        }
      ]
    },
    {
      "cell_type": "code",
      "source": [
        "from gensim.models import Word2Vec\n"
      ],
      "metadata": {
        "id": "yFxRU5druUko"
      },
      "execution_count": null,
      "outputs": []
    },
    {
      "cell_type": "code",
      "source": [
        "sentences = [line.split() for line in texts]\n",
        "\n",
        "w2v = Word2Vec(sentences, vector_size=100, window=5, workers=4, epochs=10, min_count=3)\n",
        "print(sentences[20:25])"
      ],
      "metadata": {
        "colab": {
          "base_uri": "https://localhost:8080/"
        },
        "id": "-kzC_FdIuYLB",
        "outputId": "093142d6-16a7-4937-91cf-0718ce5ab8a4"
      },
      "execution_count": null,
      "outputs": [
        {
          "output_type": "stream",
          "name": "stdout",
          "text": [
            "[['pbks', 'relieved', 'face', 'white', 'heart'], ['mi', 'red', 'heart', 'red', 'heart'], ['dc', 'playing', 'br', 'br', 'warner', 'br', 'shah', 'br', 'marsh', 'br', 'macgurk', 'br', 'brook', 'br', 'pant', 'br', 'axar', 'br', 'kuldeep', 'br', 'mukesh', 'br', 'khaleel', 'br', 'ishant'], ['super', 'giant', 'ke', 'paas', 'luck', 'nhi', 'hai', 'face', 'with', 'tears', 'of', 'joy', 'face', 'with', 'tears', 'of', 'joy', 'face', 'with', 'tears', 'of', 'joy', 'sa', 'me', 'bhi', 'final', 'me', 'har', 'face', 'with', 'tears', 'of', 'joy', 'face', 'with', 'tears', 'of', 'joy', 'face', 'with', 'tears', 'of', 'joy'], ['gt', 'has', 'big', 'all', 'rounder', 'rashid', 'khan', 'rahul', 'tewatia', 'vijay', 'sah', 'rukh', 'kha']]\n"
          ]
        }
      ]
    },
    {
      "cell_type": "code",
      "source": [
        "words = list(w2v.wv.key_to_index.keys())\n",
        "print(words)\n",
        "print(len(words))"
      ],
      "metadata": {
        "colab": {
          "base_uri": "https://localhost:8080/"
        },
        "id": "Vio9d-eZurF9",
        "outputId": "3d942c10-7b97-4dba-b190-a0734f74ac8c"
      },
      "execution_count": null,
      "outputs": [
        {
          "output_type": "stream",
          "name": "stdout",
          "text": [
            "['heart', 'red', 'face', 'br', 'with', 'of', 'tears', 'joy', 'rcb', 'the', 'is', 'a', 'to', 'yellow', 'smiling', 'and', 'in', 'i', 'you', 's', 'csk', 'party', 'popper', 'crying', 'will', 'on', 'grinning', 'for', 'rohit', 'not', 'hardik', 'sweat', 'this', 'fire', 'team', 'blue', 'mi', 'purple', 'kkr', 'ipl', 'eyes', 'it', 'that', 'he', 'hai', 't', 'sharma', 'like', 'be', 'are', 'captain', 'bhai', 'video', 'sir', 'mouth', 'cup', 'have', 'kohli', 'match', 'but', 'mumbai', 'trophy', 'win', 'me', 'href', 'my', 'virat', 'fan', 'ka', 'airplane', 'has', 'no', 'only', 'best', 'or', 'gt', 'b', 'who', 'we', 'brother', 'srh', 'from', 'pandya', 'was', 'also', 'please', 'fans', 'what', 'all', 'rahul', 'one', 'your', 'time', 'player', 'enraged', 'hands', 'love', 'should', 'orange', 'if', 'because', 'am', 'symbols', 'do', 'playing', 'up', 'ki', 'can', 'why', 'open', 'there', 'jai', 'cricket', 'rr', 'as', 'lsg', 'king', 'biceps', 'flexed', 'mark', 'index', 'pointing', 'so', 'they', 'backhand', 'rolling', 'ko', 'did', 'ke', 'laughing', 'yadav', 'world', 'about', 'don', 'h', 'first', 'c', 'make', 'skin', 'floor', 'tone', 'crown', 'm', 'thumbs', 'dc', 'good', 'very', 'sala', 'hi', 'button', 'by', 'chapri', 'captaincy', 'impact', 'always', 'then', 'http', 'delhi', 'play', 'now', 'when', 'folded', 'suit', 'dhoni', 'vs', 'how', 'youtube', 'down', 'won', 'his', 'bowling', 'se', 'nahi', 'even', 'results', 'k', 'kl', 'quot', 'search', 'ho', 'query', 'com', 'www', 'akash', 'at', 'more', 'batting', 'check', 'players', 'year', 'loudly', 'wk', 'final', 'just', 'bumrah', 'bro', 'support', 'green', 'indians', 'out', 'game', 'after', 'r', 'namde', 'lost', 'mayank', 'siraj', 'dk', 'points', 'karo', 'happy', 'india', 'every', 'pant', 'krishna', 'last', 'kumar', 'big', 'see', 'bad', 'much', 'bhi', 'come', 'want', 'hearts', 'faf', 'star', 'indian', 'hundred', 'tha', 'here', 'right', 'reason', 'nhi', 'been', 'surya', 'money', 'forever', 'maxwell', 'light', 'made', 'sky', 'any', 'get', 'him', 'radha', 'khan', 'gill', 'today', 'exclamation', 'hand', 'respect', 'back', 'runs', 'sunglasses', 'ji', 'yash', 'punjab', 'singh', 'ee', 'medium', 'rajasthan', 'hitman', 'wc', 'top', 'people', 'horns', 'iyer', 'mitchell', 'well', 'our', 'over', 'd', 'e', 'say', 'xi', 'said', 'than', 'th', 'matches', 'an', 'still', 'got', 'david', 'flag', 'kya', 'would', 'name', 'season', 'go', 'too', 'main', 'bowler', 'know', 'teams', 'na', 'next', 'ye', 'kuldeep', 'comment', 'amp', 'think', 'triangular', 'left', 'rinku', 'baat', 'played', 'raunak', 'aakash', 'tell', 'st', 'their', 'chopra', 'gujarat', 'never', 'which', 'had', 'rajat', 'where', 'ne', 'most', 'ishan', 'place', 'v', 'cross', 'dark', 'starc', 'ab', 'head', 'give', 'watch', 'let', 'shami', 'rana', 'royals', 'pbks', 'circle', 'broken', 'wrong', 'chhapri', 'everyone', 'har', 'ball', 'day', 'winning', 'lot', 'u', 'two', 'kishan', 'same', 'bat', 'de', 'again', 'watching', 'channel', 'yesterday', 'popular', 'dinesh', 'kon', 'many', 'sparkling', 'collision', 'lose', 'ms', 'marsh', 'aur', 'toh', 'yes', 'cummins', 'angry', 'sanju', 'us', 'making', 'msd', 'super', 'wpl', 'patidar', 'run', 'man', 'take', 'raunac', 'chennai', 'given', 'dagar', 'kar', 'hyderabad', 'warner', 'better', 'dayal', 'ok', 'till', 'since', 'these', 'app', 'started', 'great', 'dhawan', 'koi', 'jadeja', 'april', 'aap', 'become', 'mukesh', 'chance', 'them', 'cap', 'some', 'its', 'rcbian', 'does', 'talk', 'prediction', 'kolkata', 'hit', 'other', 'against', 'videos', 'bhaiya', 'kartik', 'hope', 'going', 'waiting', 'diya', 'full', 'wants', 'dube', 'thakur', 'need', 'thinking', 'pleading', 'nice', 'such', 'kings', 'before', 'rishabh', 'lion', 'ra', 'new', 'batsman', 'patel', 'karn', 'form', 'russell', 'karthik', 'raha', 'bar', 'doesn', 'defeat', 'par', 'done', 'champion', 'shreyas', 'fun', 'happened', 'winner', 'guys', 'axar', 'bowlers', 'qualify', 'anyone', 'n', 'sparkles', 'years', 'pe', 'power', 'ram', 'wale', 'auction', 'number', 'lucknow', 'gaya', 'thing', 'overs', 'abd', 'being', 'clown', 'jacks', 'feel', 'p', 'show', 'shikhar', 'narine', 'miller', 'rashid', 'holi', 'little', 'aa', 'bishnoi', 'keep', 'pitch', 'liye', 'shivam', 'both', 'kamaal', 'doing', 'ever', 'matter', 'pat', 'hey', 'without', 'wins', 'lajawaab', 'pooran', 'raising', 'pathirana', 'du', 'deepak', 'rabet', 'chahar', 'lottery', 'ravindra', 'mein', 'probo', 'miss', 'loyal', 'management', 'add', 'nortje', 'growing', 'jeet', 'lover', 'hard', 'true', 'proud', 'sunil', 'sab', 'suyash', 'wicket', 'perry', 'record', 'riyan', 'hu', 'order', 'ek', 'deep', 'review', 'struck', 'kuch', 'look', 'score', 'mai', 'pandey', 'loss', 'rahane', 'felt', 'single', 'didn', 'fast', 'ha', 'varun', 'beating', 'salt', 'maxi', 'finisher', 'victory', 'topley', 'performance', 'bangalore', 'lomror', 'plays', 'could', 'seen', 'abhishek', 'le', 'beaming', 'royal', 'hot', 'joseph', 'modi', 'stadium', 're', 'due', 'vijay', 'hota', 'squad', 'may', 'skull', 'thala', 'sai', 'kal', 'samson', 'plessis', 'shaw', 'were', 'kiss', 'rachin', 'ambani', 'chahal', 'real', 'really', 'women', 'jaiswal', 'plz', 'lo', 'favourite', 'karan', 'times', 'rj', 'long', 'stoinis', 'use', 'blowing', 'badoni', 'bengaluru', 'line', 'wait', 'ishant', 'krunal', 'start', 'way', 'makes', 'friend', 'ferguson', 'middle', 'worst', 'those', 'aaj', 'anuj', 'bol', 'l', 'playoffs', 'came', 'analysis', 'tim', 'markram', 'coming', 'anything', 'mohit', 'nd', 'saal', 'gayle', 'dream', 'nitish', 'rabat', 'ya', 'poo', 'khaleel', 'balls', 'strong', 'betting', 'venkatesh', 'pile', 'thanks', 'glenn', 'person', 'tilak', 'live', 'away', 'spin', 'boom', 'ad', 'work', 'emotion', 'ready', 'mahi', 'bowl', 'scored', 'promotion', 'commentary', 'ruturaj', 'test', 'tu', 'klassen', 'spinner', 'gesture', 'madhwal', 'useless', 'ahmed', 'medal', 'cameron', 'mat', 'umran', 'life', 'means', 'sad', 'looking', 'mohsin', 'cr', 'mistake', 'opening', 'less', 'nothing', 'log', 'odi', 'brook', 'hair', 'lalit', 'dil', 'vc', 'father', 'hello', 'icc', 'loyalty', 'saying', 'ads', 'kr', 'hain', 'crossed', 'kro', 'famous', 'mohammad', 'base', 'tomorrow', 'saha', 'fist', 'hate', 'taken', 'thank', 'ours', 'problem', 'baar', 'favorite', 'gave', 'hare', 'shardul', 'important', 'took', 'travis', 'wala', 'sports', 'congratulations', 'content', 'god', 'nehal', 'harshit', 'whole', 'hooda', 'halo', 'end', 'talking', 'haar', 'pr', 'himself', 'friends', 'legend', 'rab', 'something', 'soon', 'per', 'rate', 'once', 'vk', 'sign', 'narayan', 'nehra', 'mavi', 'hum', 'shahrukh', 'definitely', 'gaye', 'army', 'jo', 'titans', 'hoga', 'happen', 'umesh', 'tongue', 'birthday', 'g', 'while', 'squinting', 'innings', 'getting', 'ronak', 'ami', 'stop', 'kare', 'feeling', 'gya', 'jab', 'tewatia', 'second', 'wood', 'subscribe', 'supporting', 'rawat', 'bmw', 'pandiya', 'ro', 'news', 'batter', 'shree', 'yaar', 'giving', 'nabi', 'shame', 'karnataka', 'knows', 'pls', 'side', 'williamson', 'wh', 'uckszu', 'old', 'andre', 'jaddu', 'fingers', 'departure', 'gy', 'hua', 'mb', 'malik', 'ujg', 'dv', 'men', 'naam', 'excited', 'parag', 'able', 'wo', 'abhi', 'raised', 'remain', 'international', 'under', 'kiya', 'harry', 'thi', 'franchise', 'rishab', 'clapping', 'biggest', 'chahiye', 'saw', 'winking', 'wickets', 'class', 'poor', 'balloon', 'harpic', 'pahul', 'brand', 'y', 'bcci', 'ni', 'shankar', 'anrich', 'arrow', 'samad', 'imp', 'daryl', 'looks', 'popularity', 'fake', 'country', 'black', 'tum', 'band', 'sa', 'high', 'rizvi', 'luck', 'conway', 'strongest', 'rabt', 'strike', 'put', 'mera', 'prithvi', 'according', 'sakariya', 'everything', 'sumit', 'ravi', 'lineup', 'question', 'attitude', 'pride', 'comes', 'jasprit', 'relieved', 'j', 'rahe', 'award', 'tripathi', 'finish', 'word', 'must', 'w', 'anna', 'point', 'haarcb', 'sun', 'stubbs', 'likes', 'instead', 'x', 'join', 'bharat', 'shushing', 'told', 'pure', 'tak', 'believe', 'prizes', 'six', 'fir', 'pass', 'rhe', 'rounder', 'strategy', 'change', 'rha', 'kyu', 'used', 'seems', 'johnson', 'gets', 'part', 'opinion', 'dog', 'sundar', 'moai', 'future', 'kane', 'gurbaz', 'assemble', 'holding', 'partying', 'goes', 'korbo', 'jack', 'bas', 'ground', 'seeing', 'shubman', 'another', 'option', 'kept', 'bahut', 'amazing', 'caption', 'reply', 'else', 'iss', 'gaikwad', 'off', 'finals', 'roy', 'chawla', 'views', 'agar', 'front', 'story', 'tyagi', 'manish', 'behind', 'coetzee', 'bjp', 'mere', 'mahipal', 'forget', 'slightly', 'capitals', 'help', 'finally', 'kholi', 'words', 'semis', 'days', 'bring', 'boy', 'bandage', 'sudarshan', 'supporter', 'title', 'rocket', 'kushagra', 'special', 'morning', 'taking', 'someone', 'alzari', 'bana', 'kab', 'voice', 'devdutt', 'pakistan', 'walo', 'manoj', 'heard', 'probable', 'jitegi', 'maja', 'dubey', 'highest', 'losing', 'history', 'imagine', 'mr', 'cf', 'lorbo', 'own', 'jersey', 'ga', 'pdogg', 'rd', 'understand', 'namdu', 'defeated', 'agarwal', 'already', 'different', 'lovers', 'kiwi', 'whether', 'moeen', 'thumbnail', 'banana', 'son', 'sahi', 'comments', 'lockie', 'klassy', 'reece', 'call', 'wtc', 'between', 'wadhera', 'beat', 'total', 'tab', 'gift', 'richardson', 'bowled', 'free', 'slow', 'arshdeep', 'otherwise', 'promote', 'action', 'chutiya', 'sure', 'ali', 'link', 'dangerous', 'room', 'chapari', 'wish', 'late', 'position', 'curran', 'remember', 'experience', 'saala', 'mishra', 'except', 'hero', 'jay', 'ayush', 'deserve', 'rose', 'die', 'santner', 'bag', 'rs', 'ban', 'gone', 'shot', 'chetan', 'names', 'league', 'fanbase', 'kannur', 'naveen', 'reach', 'injured', 'perfect', 'minutes', 'watched', 'paddikal', 'min', 'rest', 'home', 'table', 'wow', 'jit', 'family', 'powerplay', 'crore', 'klassical', 'umpire', 'ashwin', 'together', 'speak', 'lokesh', 'o', 'padikal', 'attendance', 'tournament', 'australia', 'loading', 'shai', 'things', 'aiden', 'acha', 'edit', 'fixing', 'buy', 'baap', 'excitement', 'noor', 'leave', 'vote', 'keeper', 'credit', 'mohammed', 'liya', 'challengers', 'mind', 'rbt', 'death', 'fact', 'kind', 'preview', 'merch', 'vyshak', 'lag', 'kam', 'phil', 'nehi', 'agree', 'knowledge', 'weak', 'try', 'speaking', 'decoration', 'yet', 'laga', 'gujrat', 'ramandeep', 'spencer', 'ajinkya', 'showing', 'changed', 'english', 'assam', 'learn', 'kock', 'nepal', 'enjoy', 'level', 'injury', 'sal', 'boult', 'troll', 'jaye', 'f', 'piyush', 'aaya', 'pace', 'kis', 'wali', 'sachin', 'rupees', 'harpik', 'glowing', 'theekshana', 'peace', 'jitbo', 'register', 'trophies', 'thik', 'mujhe', 'pensive', 'catch', 'spinners', 'robin', 'harshal', 'earn', 'jurel', 'revolving', 'replace', 'yrr', 'apne', 'became', 'boss', 'flop', 'speed', 'dekh', 'mustafizur', 'gambhir', 'set', 'quickly', 'remove', 'finger', 'sameer', 'situation', 'football', 'thought', 'coach', 'into', 'absolutely', 'lekin', 'logo', 'rutu', 'khesari', 'jason', 'whatever', 'bc', 'quality', 'strength', 'possible', 'q', 'night', 'bola', 'huge', 'moye', 'omarzai', 'answer', 'suryakumar', 'powell', 'called', 'nonsense', 'ma', 'others', 'waste', 'rule', 'jitega', 'banao', 'marcus', 'perform', 'itna', 'send', 'field', 'opener', 'missing', 'hote', 'difference', 'heinrich', 'chances', 'entire', 'gerald', 'sunrisers', 'during', 'kre', 'karna', 'fielding', 'century', 'three', 'request', 'jhye', 'disappointed', 'cover', 'harcb', 'abdul', 'chala', 'find', 'easy', 'bhuvi', 'infinity', 'ip', 'decision', 'madhushanka', 'vo', 'porel', 'code', 'eat', 'fix', 'abe', 'ashish', 'tho', 'heartbreak', 'oncoming', 'fit', 'upload', 'cricketer', 'sorry', 'following', 'hasaranga', 'cannot', 'mean', 'cold', 'view', 'senior', 'oh', 'nai', 'seriously', 'stupid', 'di', 'panda', 'hind', 'jitesh', 'karta', 'hitting', 'chris', 'sabse', 'devon', 'guy', 'mc', 'overseas', 'pandaya', 'minute', 'baba', 'yuzi', 'unsubscribe', 'toss', 'bekar', 'chal', 'himanshu', 'gayi', 'creator', 'crazy', 'bcz', 'west', 'tristan', 'opened', 'garden', 'panoti', 'khel', 'verma', 'om', 'attack', 'raja', 'named', 'karega', 'correct', 'washington', 'orders', 'la', 'unamused', 'tear', 'games', 'dizzy', 'bhar', 'bolo', 'kaise', 'chakravarthy', 'chinnaswamy', 'success', 'karte', 'buttler', 'adhesive', 'padikkal', 'especially', 'matters', 'trolling', 'found', 'sath', 'mitchel', 'sirf', 'ticket', 'rbc', 'starts', 'nicholas', 'completely', 'follow', 'dear', 'fixed', 'removed', 'klaasen', 'banglore', 'goal', 'event', 'white', 'went', 'replacement', 'loses', 'crowd', 'fear', 'least', 'suji', 'read', 'pura', 'boundary', 'rcbians', 'markande', 'prize', 'far', 'young', 'ur', 'lol', 'yourself', 'plan', 'winners', 'says', 'appreciate', 'lady', 'update', 'boys', 'saluting', 'subscriber', 'her', 'meaning', 'england', 'goat', 'needs', 'hara', 'dhruv', 'champions', 'dull', 'foreign', 'comeback', 'pressure', 'vomiting', 'dete', 'download', 'cool', 'krte', 'tushar', 'jaan', 'viral', 'riders', 'simple', 'dada', 'minz', 'jata', 'knight', 'khela', 'feels', 'rat', 'happening', 'becomes', 'gye', 'wanted', 'automobile', 'quinton', 'boycott', 'sandeep', 'aapka', 'gautam', 'value', 'worship', 'russel', 'telling', 'lord', 'dekhna', 'create', 'lift', 'pay', 'decock', 'rf', 'xtdbg', 'gq', 'few', 'gtz', 'reasons', 'truth', 'exam', 'prwag', 'series', 'sixes', 'shahbaz', 'sam', 'dont', 'properly', 'jake', 'haq', 'ahemad', 'bond', 'college', 'november', 'bottom', 'panauti', 'trade', 'predictions', 'reached', 'jos', 'ahmad', 'doubt', 'forgot', 'teri', 'etc', 'ribbon', 'avesh', 'gonna', 'half', 'aise', 'qdk', 'sent', 'weakness', 'promoting', 'information', 'rabada', 'hona', 'achha', 'bhumrah', 'house', 'wrapped', 'max', 'bold', 'role', 'missed', 'showed', 'jeetegi', 'batters', 'secret', 'lagta', 'md', 'girl', 'nam', 'cloud', 'dressing', 'sakta', 'care', 'dotted', 'manohar', 'bangladesh', 'tk', 'target', 'mother', 'ran', 'cake', 'nor', 'jb', 'hasranga', 'shots', 'phone', 'gopal', 'jaldi', 'ul', 'rt', 'ladakh', 'earlier', 'needed', 'paisa', 'prince', 'rip', 'baki', 'arora', 'bum', 'expect', 'gambling', 'jeetega', 'pakka', 'rivalry', 'lucky', 'available', 'blood', 'editor', 'issue', 'apps', 'drop', 'lakhs', 'meri', 'sale', 'pata', 'natrajan', 'ap', 'ce', 'list', 'forgotten', 'bs', 'rounak', 'pacer', 'matlab', 'mayers', 'share', 'dravid', 'advertisement', 'bhui', 'niche', 'bare', 'soccer', 'arm', 'bouquet', 'wise', 'study', 'attention', 'aus', 'nahin', 'kha', 'songs', 'samsung', 'ks', 'male', 'fuck', 'll', 'actually', 'hitter', 'therapist', 'bus', 'villiers', 'post', 'giants', 'continue', 'wade', 'bhau', 'dreaming', 'hamara', 'loose', 'natarajan', 'successful', 'crores', 'karne', 'date', 'forward', 'fraser', 'chase', 'downcast', 'aata', 'batsmen', 'failed', 'gali', 'crossbones', 'kaha', 'return', 'result', 'epic', 'shama', 'moment', 'guru', 'worldcup', 'supported', 'write', 'tom', 'kaptani', 'bit', 'gyi', 'focus', 'known', 'neither', 'chauhan', 'believes', 'nags', 'remains', 'hindi', 'paise', 'semi', 'shashank', 'rahman', 'jyada', 'stubs', 'dilshan', 'baad', 'telegram', 'she', 'media', 'pitches', 'gg', 'jada', 'champ', 'wankhede', 'unfortunately', 'unadkat', 'selfish', 'qualified', 'apna', 'serious', 'rank', 'akashdeep', 'paltan', 'nazar', 'lena', 'small', 'kijiye', 'yours', 'complete', 'whenever', 'youtuber', 'nose', 'woman', 'cant', 'gives', 'tewatiya', 'bap', 'smirking', 'personal', 'iyar', 'card', 'eyebrow', 'break', 'toxic', 'vale', 'whom', 'panjab', 'hoti', 'compare', 'amikkr', 'glen', 'din', 'harpreet', 'galat', 'ak', 'mobile', 'klaasy', 'untold', 'saurav', 'shubhman', 'hari', 'mila', 'vedio', 'abuse', 'liked', 'yr', 'ind', 'cb', 'harne', 'ricky', 'dega', 'pandu', 'ask', 'anukul', 'enough', 'worry', 'public', 'girls', 'style', 'starting', 'banaya', 'factor', 'amit', 'bought', 'job', 'asked', 'cause', 'hear', 'opportunity', 'ahead', 'michel', 'vai', 'bks', 'eng', 'kejriwal', 'amulet', 'bhut', 'naa', 'khatam', 'adds', 'bumra', 'deta', 'hay', 'lagi', 'adarsh', 'worth', 'maza', 'utkarsh', 'south', 'sub', 'bhuvneshwar', 'might', 'ben', 'globe', 'four', 'happens', 'pacers', 'deshpande', 'meet', 'added', 'fight', 'sare', 'box', 'mindly', 'chhapari', 'shown', 'abhinav', 'each', 'zero', 'account', 'pandeya', 'dekha', 'lofted', 'hone', 'umpires', 'smriti', 'klassic', 'hii', 'machine', 'pickup', 'kill', 'deserves', 'aj', 'voltage', 'either', 'apni', 'whoever', 'chokli', 'editing', 'boring', 'da', 'totally', 'human', 'dono', 'yashasvi', 'shah', 'rajan', 'draw', 'age', 'maar', 'unique', 'lead', 'kitna', 'khushi', 'around', 'es', 'listen', 'repeat', 'trust', 'ashamed', 'emotions', 'neem', 'matheesha', 'records', 'bast', 'wanindu', 'brar', 'playoff', 'pela', 'net', 'khele', 'bhandage', 'tiger', 'state', 'tata', 'stokes', 'having', 'food', 'hat', 'underrated', 'takes', 'ayodhya', 'bhakts', 'responsible', 'tried', 'awesome', 'haters', 'dekhta', 'cock', 'save', 'becoming', 'banned', 'diye', 'rabit', 'puri', 'fav', 'toply', 'sudharsan', 'fantasy', 'ghatiya', 'lets', 'thinks', 'avg', 'khush', 'abki', 'happiness', 'bada', 'ashutosh', 'cherry', 'chaiye', 'atleast', 'double', 'report', 'wasted', 'denge', 'isn', 'sahab', 'ruined', 'vaibhav', 'crow', 'type', 'rabbit', 'session', 'phir', 'government', 'bcoz', 'wings', 'mistakes', 'chakraborty', 'capital', 'sri', 'grandmother', 'bura', 'hetmyer', 'rahega', 'africa', 'aapki', 'bi', 'mja', 'patta', 'youth', 'master', 'alien', 'frowning', 'pray', 'rajsthan', 'sing', 'pronounce', 'above', 'shepherd', 'leader', 'facing', 'participate', 'confidence', 'improve', 'price', 'gun', 'saath', 'ignore', 'average', 'message', 'brought', 'powerful', 'week', 'upcoming', 'leke', 'dam', 'steam', 'backup', 'usko', 'cheating', 'chale', 'expected', 'beginning', 'kuchh', 'hun', 'vdo', 'zindabad', 'tuk', 'maybe', 'khud', 'ku', 'pandits', 'finishing', 'arrogant', 'length', 'finch', 'hurt', 'kaun', 'bairstow', 'dhull', 'haa', 'taiyar', 'kannada', 'mood', 'slogan', 'kishore', 'brevis', 'jeetbo', 'liam', 'plus', 'short', 'mt', 'dekhne', 'mandhana', 'prayer', 'career', 'along', 'performs', 'bkl', 'though', 'tera', 'kisan', 'students', 'guess', 'skip', 'enter', 'city', 'pick', 'saved', 'michael', 'screaming', 'club', 'wajah', 'jao', 'proper', 'op', 'cha', 'magic', 'haven', 'visible', 'loki', 'stay', 'water', 'psg', 'lower', 'pradesh', 'bigger', 'gai', 'kissing', 'phillips', 'kabhi', 'through', 'running', 'thermometer', 'babu', 'performed', 'inning', 'sneezing', 'aayega', 'referral', 'whose', 'jeeta', 'spot', 'enjoyed', 'despite', 'jansen', 'prabhsimran', 'camera', 'corner', 'failure', 'legends', 'wah', 'faltu', 'challenge', 'jate', 'pain', 'ham', 'trending', 'promo', 'kyle', 'owner', 'among', 'taide', 'im', 'mara', 'royalty', 'aiims', 'akhtar', 'josh', 'jeete', 'funny', 'madurai', 'benaras', 'chamcha', 'bass', 'beverage', 'varma', 'jitne', 'apple', 'daily', 'nov', 'jaspreet', 'bet', 'billed', 'ja', 'jita', 'mujeeb', 'trolled', 'captani', 'thoda', 'almost', 'aapne', 'jati', 'contract', 'election', 'move', 'weary', 'schedule', 'bina', 'hugging', 'thats', 'condition', 'dena', 'retain', 'loves', 'proved', 'boo', 'mad', 'text', 'bakwas', 'diaries', 'count', 'yeh', 'naamde', 'fine', 'violet', 'welcome', 'joke', 'hour', 'clear', 'selected', 'sending', 'march', 'arshin', 'defend', 'trying', 'mtlb', 'shubham', 'limit', 'mention', 'kaam', 'choice', 'rovman', 'milta', 'tb', 'trent', 'mohamad', 'wishes', 'easily', 'hm', 'lack', 'bd', 'symbol', 'understood', 'jio', 'notice', 'shreyash', 'chutiye', 'electoral', 'neutral', 'tune', 'nerd', 'pehle', 'itne', 'kumble', 'kb', 'mcgurk', 'praise', 'breath', 'bna', 'supporters', 'shamar', 'kaa', 'ex', 'pandia', 'beta', 'karma', 'scam', 'pulled', 'million', 'highlights', 'hindu', 'raina', 'issues', 'jite', 'probably', 'hogi', 'esala', 'escn', 'eleven', 'balanced', 'hater', 'bastard', 'upside', 'kaptan', 'alone', 'sehwag', 'cost', 'percent', 'mega', 'livingstone', 'kagiso', 'hiii', 'data', 'stopvivekbindra', 'rain', 'dekho', 'sleeping', 'bss', 'finished', 'tough', 'biased', 'sb', 'biryani', 'fault', 'hui', 'jitna', 'early', 'wonder', 'henrich', 'sikander', 'moon', 'expectations', 'pin', 'dekhte', 'song', 'rutherford', 'mahendra', 'panday', 'iq', 'cinema', 'akshar', 'topic', 'tv', 'section', 'worried', 'third', 'ahmedabad', 'klasen', 'bringing', 'language', 'stats', 'hoon', 'opposite', 'leg', 'aisa', 'sar', 'case', 'satta', 'shows', 'sunrise', 'apki', 'yar', 'hp', 'tere', 'talent', 'bracewell', 'sharukh', 'shirt', 'jaise', 'australian', 'greatest', 'bai', 'blossom', 'ranji', 'created', 'khalil', 'health', 'rahi', 'talked', 'eating', 'subhman', 'seem', 'keeps', 'chod', 'mahadev', 'galaxy', 'june', 'astonished', 'amount', 'marco', 'increase', 'rhi', 'bahar', 'mast', 'vijaykumar', 'prabhudesai', 'kay', 'uttar', 'choose', 'badass', 've', 'punjabi', 'sr', 'pink', 'wheel', 'mach', 'past', 'themselves', 'aage', 'eliminator', 'facepalming', 'months', 'difficult', 'passed', 'increasing', 'written', 'beautiful', 'cricketers', 'turning', 'banane', 'close', 'reduce', 'withdraw', 'sleep', 'abusing', 'shri', 'spoken', 'kharab', 'thx', 'krdo', 'hei', 'cam', 'cultural', 'impect', 'dirty', 'skills', 'evil', 'yarr', 'instagram', 'combination', 'zaheer', 'manipur', 'kapil', 'fizz', 'commentator', 'hockey', 'brilliant', 'pta', 'audience', 'confetti', 'era', 'hatao', 'scoring', 'arrogance', 'local', 'honest', 'pointed', 'vi', 'coz', 'suresh', 'idea', 'track', 'bt', 'pa', 'ogre', 'chor', 'advice', 'livingston', 'chasing', 'extra', 'lotteries', 'lee', 'yeah', 'shakib', 'iam', 'low', 'working', 'loved', 'khelega', 'mil', 'ash', 'turned', 'aaye', 'dates', 'bole', 'jayega', 'kunal', 'explain', 'postponed', 'km', 'business', 'necessary', 'details', 'gi', 'hee', 'dharma', 'moshin', 'speech', 'umpiring', 'knock', 'selection', 'cups', 'handshake', 'honge', 'stopped', 'raza', 'voting', 'rather', 'raffle', 'destroyed', 'color', 'hurts', 'alzarri', 'anmolpreet', 'bating', 'yawning', 'pro', 'energy', 'banate', 'godi', 'positive', 'allrounder', 'system', 'gowtham', 'changer', 'busts', 'increased', 'sense', 'hardhik', 'rock', 'silhouette', 'gandhi', 'yang', 'orthodox', 'harbhajan', 'example', 'joined', 'bihar', 'crescent', 'mainly', 'fully', 'ganguly', 'woh', 'released', 'brain', 'bhuvaneshwar', 'beads', 'lega', 'madushanka', 'nobody', 'btw', 'ah', 'mjk', 'mine', 'shimron', 'admission', 'suddenly', 'festival', 'kisi', 'paper', 'dunga', 'sakib', 'sometimes', 'kitni', 'shopping', 'lt', 'jeetne', 'fed', 'retirement', 'fool', 'iphone', 'interesting', 'destroy', 'monocle', 'humble', 'photo', 'dreams', 'pahle', 'expressionless', 'fifty', 'drink', 'captains', 'using', 'jane', 'hume', 'yin', 'taught', 'exciting', 'insult', 'coaching', 'hence', 'worse', 'classen', 'gurinchi', 'womens', 'surely', 'jealous', 'kavya', 'remaining', 'rocks', 'monkey', 'ganta', 'swastik', 'gbb', 'stand', 'discussion', 'subs', 'tickets', 'profit', 'cry', 'staff', 'bhot', 'sponsor', 'step', 'nuwan', 'kulkarni', 'logic', 'radhe', 'uski', 'ghanta', 'badly', 'east', 'srk', 'dukh', 'hamare', 'acchi', 'bisnoi', 'month', 'aya', 'prove', 'ago', 'spent', 'lga', 'bullseye', 'markaram', 'qualifier', 'tayar', 'slowly', 'mahesh', 'venky', 'batted', 'board', 'reality', 'respected', 'myself', 'cut', 'unfollow', 'friendly', 'latin', 'revenge', 'mare', 'unavailable', 'round', 'angkrish', 'seniors', 'slower', 'select', 'evening', 'wriddhiman', 'badge', 'department', 'hallabol', 'namdhe', 'met', 'aapko', 'stark', 'kuda', 'music', 'jail', 'banaye', 'calendar', 'feed', 'brett', 'admin', 'ata', 'performing', 'nu', 'safe', 'namma', 'atkinson', 'until', 'jagah', 'jonny', 'replaced', 'social', 'kgf', 'theeksana', 'rahmanullah', 'consider', 'beaten', 'followed', 'release', 'online', 'foolish', 'hoo', 'vyashak', 'shabaz', 'devotee', 'copyright', 'holder', 'mint', 'unit', 'interview', 'exactly', 'bilkul', 'khiladi', 'copy', 'atharva', 'fucked', 'fen', 'tendulkar', 'viewers', 'vajah', 'tod', 'smith', 'nee', 'bane', 'changes', 'premier', 'raghuvanshi', 'oka', 'subscribers', 'titan', 'prabhudessai', 'pet', 'sold', 'dedo', 'willey', 'teem', 'uska', 'swollen', 'gabbar', 'bade', 'talks', 'swords', 'mens', 'tree', 'mom', 'depth', 'eden', 'tension', 'finishers', 'maheesh', 'donkey', 'upsc', 'couldn', 'bsdk', 'bolte', 'choudhary', 'archer', 'leta', 'reddy', 'centuries', 'sport', 'kannadigas', 'tem', 'dewald', 'kyo', 'comedy', 'required', 'gay', 'later', 'loosing', 'prasidh', 'compared', 'taiyaar', 'rizwi', 'butler', 'hussain', 'shut', 'asia', 'anatomical', 'children', 'wrote', 'tarah', 'accept', 'society', 'expert', 'script', 'faith', 'bowls', 'jeeto', 'judge', 'weakest', 'calling', 'yaad', 'sara', 'studies', 'sakata', 'current', 'comparing', 'tuber', 'upar', 'partner', 'outstanding', 'rubbish', 'fate', 'uske', 'arey', 'hasn', 'format', 'hazelwood', 'te', 'turn', 'bats', 'db', 'bhaii', 'advertising', 'buying', 'baseball', 'religious', 'gupta', 'lowest', 'paas', 'unke', 'caps', 'tatti', 'gl', 'changing', 'stonis', 'mar', 'superb', 'karlo', 'cat', 'vvs', 'shreyanka', 'awards', 'invalid', 'maa', 'mei', 'iska', 'road', 'effort', 'ryan', 'sabka', 'sake', 'jayegi', 'ones', 'paid', 'pk', 'smile', 'raho', 'medical', 'habit', 'luke', 'dikha', 'justice', 'sami', 'booing', 'karegi', 'feature', 'regular', 'leaf', 'struggling', 'remembered', 'instant', 'kattar', 'aati', 'domestic', 'ddp', 'sakaria', 'decide', 'commentry', 'okay', 'roast', 'noticed', 'halla', 'wicketkeeper', 'plesis', 'analys', 'predicted', 'thoko', 'sunder', 'lots', 'overrated', 'meanwhile', 'villain', 'chat', 'bhumra', 'law', 'professional', 'cheer', 'scores', 'rupee', 'jaydev', 'smashed', 'jitenge', 'ego', 'chakravarty', 'sorrow', 'enjoying', 'talented', 'mayak', 'jaate', 'chuka', 'spirit', 'yo', 'shi', 'aapke', 'contest', 'shrugging', 'hoping', 'kadha', 'boll', 'payega', 'hardick', 'skte', 'bengal', 'fall', 'hole', 'kuldip', 'oo', 'shocked', 'isko', 'newpunjabimovie', 'khelenge', 'ta', 'vice', 'junior', 'brothers', 'captaini', 'yah', 'ani', 'entertainment', 'trading', 'wouldn', 'kosam', 'raj', 'captan', 'earned', 'khelna', 'prabhu', 'tubers', 'mankad', 'withdrawal', 'bitter', 'dosto', 'hell', 'yahi', 'giveaway', 'manta', 'acting', 'pagal', 'kahan', 'milega', 'lene', 'accha', 'krne', 'youtubers', 'oru', 'thushara', 'kohali', 'chaudhary', 'planning', 'kxip', 'episode', 'sexy', 'retire', 'chalado', 'foreigners', 'klaseen', 'phle', 'rounac', 'mile', 'wear', 'supports', 'confirmed', 'samne', 'si', 'modern', 'sarfaraz', 'living', 'sakti', 'swing', 'tournaments', 'ache', 'below', 'upon', 'self', 'crucial', 'group', 'nauseated', 'knew', 'dashing', 'achi', 'jalwa', 'stone', 'ways', 'aggressive', 'odisha', 'anywhere', 'dollar', 'fearful', 'chepauk', 'surprise', 'former', 'chameera', 'cares', 'customer', 'joshep', 'zany', 'disguised', 'concern', 'spend', 'yuvraj', 'handed', 'khelne', 'discuss', 'camron', 'peak', 'mins', 'recent', 'idiot', 'controversy', 'fantastic', 'chikara', 'bhul', 'interested', 'practice', 'prem', 'flow', 'mostly', 'captainship', 'frist', 'emotional', 'blockbuster', 'school', 'importance', 'salary', 'patil', 'leadership', 'oops', 'pepsi', 'bonus', 'taker', 'maximum', 'dance', 'ssss', 'comparison', 'goetzee', 'uttarakhand', 'body', 'benefit', 'posted', 'flower', 'deal', 'billion', 'yuzvendra', 'memorable', 'filled', 'higher', 'seasons', 'previous', 'wilted', 'empty', 'dijiye', 'tut', 'rakha', 'stars', 'writing', 'unsold', 'nattu', 'khol', 'mountains', 'path', 'li', 'insulted', 'ended', 'itni', 'near', 'twice', 'ravichandran', 'rocked', 'whereas', 'karen', 'isi', 'pic', 'dal', 'shit', 'muhammad', 'banknote', 'celebrate', 'thora', 'chap', 'romario', 'jarur', 'chalu', 'tm', 'ranking', 'works', 'hy', 'wont', 'lete', 'shr', 'gaali', 'bata', 'nz', 'decided', 'eh', 'separate', 'counterclockwise', 'etna', 'scene', 'paji', 'aab', 'building', 'mallya', 'sometime', 'bahi', 'clearly', 'bachao', 'charge', 'reaction', 'achcha', 'arrows', 'longer', 'ruled', 'camp', 'raat', 'washing', 'achievement', 'sudharshan', 'suffer', 'sonam', 'competition', 'express', 'haraya', 'daughter', 'sin', 'teach', 'continues', 'depends', 'willy', 'kangaroo', 'allen', 'background', 'itself', 'brings', 'chey', 'parents', 'lame', 'rahne', 'quite', 'sidhu', 'inka', 'blame', 'babar', 'bhatia', 'options', 'interest', 'ideal', 'wondering', 'allah', 'kids', 'invest', 'vande', 'goblin', 'swapnil', 'plying', 'hue', 'address', 'rcd', 'behavior', 'nalla', 'isliye', 'aye', 'christmas', 'salaa', 'dropped', 'approach', 'valley', 'badiya', 'pel', 'cm', 'hype', 'faster', 'pair', 'sponsors', 'potential', 'shoaib', 'huaa', 'gloves', 'child', 'jis', 'plzz', 'demand', 'massive', 'hamari', 'note', 'bhandge', 'doctor', 'entry', 'kamjor', 'taste', 'neenga', 'baby', 'gandu', 'gotta', 'kami', 'hame', 'nez', 'faced', 'chokers', 'thrilling', 'race', 'valo', 'soul', 'girlfriend', 'jee', 'uncle', 'cheater', 'spreading', 'united', 'doni', 'aiming', 'modiji', 'hh', 'bless', 'tennis', 'chai', 'legacy', 'economy', 'present', 'dum', 'cheering', 'maine', 'kai', 'ciw', 'ipp', 'karenge', 'aao', 'mid', 'cash', 'exploding', 'pani', 'boundaries', 'klrahul', 'gully', 'devilliers', 'ilq', 'related', 'dycfcuqtgodeu', 'passion', 'basis', 'mustafiz', 'correctly', 'roar', 'landya', 'basic', 'bazaar', 'allowed', 'badi', 'channels', 'alag', 'miyan', 'adding', 'conditions', 'hr', 'mo', 'bataya', 'waha', 'highlight', 'bye', 'cricketing', 'sabko', 'treat', 'jagannath', 'minimum', 'campus', 'picture', 'curse', 'joining', 'destruction', 'celebrating', 'tips', 'reverse', 'splayed', 'picked', 'stronger', 'fail', 'pathetic', 'makram', 'papa', 'broo', 'equal', 'rrr', 'bottle', 'throw', 'thrill', 'kyuki', 'dia', 'kadwa', 'died', 'kasam', 'lovely', 'banta', 'nh', 'upper', 'afg', 'inexperienced', 'solve', 'nitesh', 'jana', 'hire', 'updates', 'eagle', 'khus', 'clean', 'klr', 'gem', 'agle', 'queen', 'geya', 'hatred', 'substitute', 'gus', 'door', 'humara', 'bid', 'problems', 'khelo', 'glory', 'looked', 'confirm', 'ghar', 'afghanistan', 'sukoon', 'jaaye', 'unsubscribing', 'nokia', 'including', 'marta', 'despande', 'mitch', 'aakashvani', 'persevering', 'numbers', 'wa', 'wooo', 'superstar', 'aana', 'jharkhand', 'gil', 'ela', 'expensive', 'unity', 'trusted', 'jayenge', 'haare', 'ane', 'supremacy', 'description', 'hindustan', 'hori', 'unlike', 'jofra', 'broh', 'premanand', 'relief', 'irritating', 'sides', 'direct', 'dikh', 'reduced', 'pandy', 'retires', 'chahe', 'trouble', 'kamal', 'chart', 'bnao', 'held', 'soch', 'drive', 'zaroor', 'hetmeyer', 'miya', 'gyan', 'rukh', 'rainbow', 'puck', 'fraud', 'ngidi', 'fails', 'apply', 'abhisek', 'listening', 'surprises', 'karke', 'humko', 'hesitate', 'airpods', 'bta', 'capri', 'kregi', 'nii', 'jan', 'kahe', 'kaptaan', 'ostwal', 'advance', 'ass', 'alex', 'khelta', 'honestly', 'alive', 'buri', 'vibe', 'jali', 'kada', 'formed', 'yess', 'lg', 'unforgettable', 'production', 'stage', 'losses', 'repeated', 'worldsknow', 'community', 'predict', 'sidha', 'pinched', 'mp', 'casual', 'beast', 'opponent', 'chakravarti', 'intro', 'khusi', 'commentators', 'cric', 'inshallah', 'harega', 'madhusanka', 'blow', 'ritu', 'bolta', 'rituraj', 'macgurk', 'lakh', 'meme', 'electronic', 'chahta', 'behave', 'thaa', 'balo', 'bully', 'bhojpuri', 'tushara', 'bhe', 'choke', 'sach', 'laye', 'lenge', 'hogya', 'bored', 'devid', 'bauua', 'statement', 'storm', 'instructions', 'madwal', 'thread', 'belong', 'rahenge', 'chalta', 'hoodie', 'false', 'excellent', 'mulani', 'driving', 'pallavallgaming', 'agr', 'grow', 'flopped', 'analyze', 'disappointing', 'dimag', 'born', 'politics', 'yellove', 'riya', 'sooji', 'probe', 'attendence', 'dislike', 'counting', 'literally', 'europe', 'kishor', 'hall', 'feet', 'yudhvir', 'purse', 'hoge', 'pan', 'everywhere', 'ans', 'turner', 'large', 'toda', 'bolna', 'terrible', 'ice', 'skta', 'dare', 'ch', 'plss', 'kahi', 'seemed', 'larger', 'al', 'dusri', 'land', 'swos', 'lao', 'lage', 'shameful', 'manchester', 'beyond', 'azmatullah', 'tired', 'chappri', 'eye', 'unfit', 'bell', 'haregi', 'duplessis', 'hydrabad', 'sister', 'asking', 'harti', 'noise', 'stable', 'pediatric', 'apka', 'ig', 'booo', 'manner', 'underestimate', 'compete', 'moving', 'hopefully', 'pp', 'advantage', 'hitted', 'aagya', 'retired', 'macha', 'ledu', 'anymore', 'anyway', 'qatar', 'mummy', 'ky', 'registration', 'praying', 'bed', 'although', 'silent', 'reading', 'lokie', 'toilet', 'booooo', 'karoge', 'remained', 'tabhi', 'stories', 'version', 'paying', 'warriors', 'rehne', 'poora', 'deciduous', 'limits', 'nikal', 'worthy', 'letter', 'wridhiman', 'ea', 'keeping', 'nicky', 'broke', 'sit', 'numde', 'sakte', 'pak', 'lagao', 'normal', 'reserve', 'banavo', 'looser', 'kisko', 'sounds', 'knockouts', 'upset', 'dialogue', 'maintain', 'krna', 'term', 'tanay', 'print', 'rario', 'heavy', 'mendis', 'glt', 'dekhe', 'finn', 'nita', 'isme', 'negative', 'vinod', 'culture', 'karbo', 'playbold', 'iske', 'throughout', 'lacking', 'childhood', 'apart', 'policy', 'spread', 'bolke', 'clubs', 'namade', 'fill', 'based', 'spell', 'moot', 'nihal', 'larbo', 'banaoge', 'giveaways', 'relevant', 'realise', 'henrik', 'outside', 'deadly', 'musical', 'bb', 'convey', 'arjun', 'kara', 'included', 'bal', 'cop', 'poorly', 'pakistani', 'thousand', 'announced', 'mu', 'hardikpandya', 'curren', 'blower', 'dar', 'five', 'mene', 'individual', 'movie', 'upto', 'valuable', 'zipper', 'ishaan', 'unka', 'kannadiga', 'wide', 'ws', 'attacking', 'abused', 'nearly', 'strenght', 'prepare', 'wil', 'dick', 'quit', 'kesi', 'axer', 'hated', 'didnt', 'combo', 'mature', 'struggle', 'roof', 'approve', 'character', 'marketing', 'becoz', 'collection', 'intent', 'shameless', 'copying', 'naraine', 'key', 'sparkler', 'region', 'hotel', 'global', 'chalo', 'intha', 'hn', 'traded', 'kutta', 'pinching', 'paytm', 'kitne', 'sherfane', 'zampa', 'koli', 'beats', 'nation', 'bn', 'fixer', 'harayenge', 'pxu', 'solution', 'choker', 'bhubaneswar', 'isss', 'behaviour', 'tea', 'decisions', 'relax', 'kap', 'shortage', 'sanga', 'bano', 'topely', 'hein', 'hearing', 'criticizing', 'dead', 'unfair', 'beauty', 'accepted', 'praising', 'ending', 'mana', 'wasting', 'sec', 'jokes', 'nahe', 'dilli', 'plans', 'tarif', 'films', 'omg', 'absolute', 'earning', 'compulsion', 'dad', 'jhat', 'phase', 'koot', 'hold', 'exposed', 'context', 'postmodern', 'couple', 'gurbaaz', 'rounders', 'pussy', 'offer', 'promoted', 'pas', 'kinnar', 'busy', 'everybody', 'identity', 'dey', 'replacing', 'han', 'pm', 'within', 'kaisa', 'dipendra', 'somewhere', 'rc', 'unlucky', 'hmm', 'further', 'rcbw', 'company', 'shirts', 'onwards', 'towards', 'openers', 'yea', 'aunty', 'bomb', 'aswin', 'flushed', 'locky', 'usme', 'rp', 'tumhare', 'dude', 'ladki', 'savoring', 'khilao', 'blind', 'nitin', 'particular', 'raghuwanshi', 'cummings', 'gatiya', 'favor', 'captancy', 'kindly', 'glad', 'improving', 'military', 'allow', 'knowing', 'jiti', 'movies', 'fr', 'binod', 'simply', 'platform', 'flat', 'bari', 'madrid', 'disrespect', 'sabhi', 'samajh', 'abb', 'confused', 'completed', 'universe', 'pahli', 'greed', 'afraid', 'hearty', 'banda', 'store', 'nature', 'runner', 'ohhh', 'edge', 'lives', 'samir', 'likh', 'salo', 'winn', 'duo', 'commission', 'chacha', 'amir', 'rilee', 'superhit', 'chahte', 'sided', 'tax', 'partnership', 'mastermind', 'yorker', 'samjhe', 'topper', 'cleaned', 'washed', 'female', 'ladka', 'ise', 'office', 'bank', 'mohd', 'puran', 'experienced', 'acc', 'ekdum', 'confident', 'jese', 'achieved', 'twist', 'jimmy', 'dager', 'ayya', 'core', 'maha', 'bangaluru', 'sasta', 'headache', 'member', 'stack', 'defeating', 'esa', 'sher', 'logs', 'duplesis', 'suffering', 'maintained', 'offers', 'directly', 'aavesh', 'krishnappa', 'spoke', 'vadapav', 'mane', 'saab', 'witness', 'thar', 'tripati', 'spring', 'wahi', 'boller', 'spinning', 'qualifying', 'teekshana', 'matheesa', 'chinta', 'kari', 'firse', 'official', 'hazlewood', 'salute', 'boooooo', 'joker', 'duba', 'droplets', 'surprised', 'hyd', 'firstly', 'downfall', 'shoot', 'harsh', 'glass', 'ghamand', 'markarm', 'sen', 'hahaha', 'pants', 'akashchopra', 'satner', 'congrats', 'row', 'killed', 'build', 'leaves', 'thief', 'dhaga', 'leaving', 'simran', 'faad', 'considered', 'sharm', 'grand', 'celebration', 'doo', 'badhiya', 'bacha', 'subscribed', 'chalega', 'national', 'dalal', 'mission', 'spiner', 'bulb', 'bich', 'peach', 'duniya', 'prayed', 'packed', 'shouldn', 'obviously', 'kyunki', 'control', 'colour', 'gamble', 'detail', 'fulfilled', 'baare', 'jldi', 'harta', 'huye', 'eaten', 'ge', 'ri', 'karunga', 'fair', 'ae', 'lanka', 'helpful', 'fame', 'major', 'emerging', 'strac', 'sanvir', 'unbeatable', 'yehi', 'contact', 'barr', 'bolega', 'creating', 'apko', 'kisne', 'stadiums', 'bets', 'baua', 'mandana', 'hardcore', 'course', 'sayush', 'ss', 'konsi', 'waving', 'jadega', 'waise', 'baje', 'bech', 'ellis', 'rising', 'hata', 'janam', 'botton', 'considers', 'memes', 'ability', 'pehla', 'improved', 'airing', 'bakvas', 'reward', 'feeding', 'haii', 'joshua', 'jaega', 'dehli', 'brilliantly', 'bda', 'carrier', 'checked', 'belongs', 'baaki', 'swot', 'removing', 'nathan', 'lit', 'chu', 'stylish', 'admi', 'uae', 'entered', 'aayi', 'gold', 'jayada', 'strange', 'akaash', 'replaces', 'mahirat', 'bhuvaneswar', 'maje', 'hd', 'enemy', 'mata', 'bam', 'banhardik', 'struggled', 'pulls', 'park', 'omrzai', 'gujarati', 'lekar', 'huwa', 'madness', 'bom', 'thrown', 'downloading', 'saale', 'maharashtra', 'yashaswi', 'proves', 'maynak', 'agrees', 'hopes', 'andar', 'connected', 'kp', 'maturity', 'jeetenge', 'banaiye', 'leda', 'spelling', 'sukun', 'kauwa', 'overacting', 'haarte', 'hudda', 'bakbas', 'desh', 'plate', 'french', 'kutte', 'tati', 'tumse', 'hodda', 'enti', 'adi', 'guarantee', 'haaarcb', 'dhir', 'slot', 'aakashchopra', 'yas', 'sanatani', 'regarding', 'prepared', 'kani', 'ganda', 'chamira', 'ict', 'iski', 'balance', 'war', 'overconfidence', 'mano', 'ruin', 'mkc', 'esari', 'appreciated', 'ellyse', 'jaisi', 'design', 'unfortunate', 'ronac', 'eyeing', 'ik', 'returns', 'explosive', 'randi', 'trump', 'bante', 'wife', 'bhavishyvani', 'drs', 'panth', 'lived', 'flash', 'zimbabwe', 'returned', 'em', 'greedy', 'disgusting', 'usne', 'quick', 'accuracy', 'downloaded', 'assembled', 'forced', 'gambir', 'failing', 'toba', 'askaakash', 'consecutive', 'navin', 'lappu', 'chuti', 'pada', 'sitting', 'bumarah', 'inse', 'neesham', 'hyped', 'drank', 'mnt', 'moves', 'chiye', 'suriya', 'chalao', 'direction', 'vapas', 'kamar', 'gandi', 'karti', 'sari', 'priority', 'maro', 'bangluru', 'bohot', 'kushal', 'spending', 'leena', 'zone', 'esi', 'ritual', 'mee', 'teaching', 'layak', 'progress', 'pull', 'bnd', 'jcb', 'sudhrenge', 'presence', 'hearted', 'akasdeep', 'wrna', 'ese', 'aor', 'josep', 'window', 'everytime', 'doge', 'committed', 'bolwer', 'padya', 'obsessed', 'warna', 'kauaa', 'shop', 'moi', 'teen', 'effect', 'space', 'finalists', 'kavi', 'jaao', 'sea', 'scared', 'kitana', 'injustice', 'sat', 'agrawal', 'aai', 'recce', 'tour', 'however', 'mentality', 'mallik', 'soft', 'americas', 'sound', 'brooks', 'eee', 'contribution', 'offense', 'plyer', 'street', 'include', 'bengluru', 'publicity', 'isse', 'aadarsh', 'deccan', 'chargers', 'khali', 'snake', 'arvind', 'silence', 'viewership', 'dependent', 'thusara', 'maxxi', 'cotzee', 'el', 'aate', 'baiting', 'chup', 'koro', 'championship', 'anti', 'hypothetical', 'saurabh', 'proof', 'menon', 'saare', 'vlog', 'craze', 'powel', 'num', 'rules', 'suru', 'newspaper', 'helped', 'devillers', 'eager', 'jeetgi', 'explained', 'involved', 'vada', 'pav', 'cats', 'yrs', 'puts', 'devdatt', 'vaiya', 'aren', 'trio', 'cskvsrcb', 'spoiling', 'pari', 'ruining', 'chakkar', 'moen', 'dill', 'thumb', 'classes', 'highly', 'ish', 'laddakh', 'nowhere', 'csgay', 'seaming', 'mode', 'ekana', 'registered', 'tkc', 'mental', 'samaj', 'sourav', 'pre', 'aksh', 'yt', 'declared', 'vishak', 'vibes', 'dhobi', 'karu', 'mathisha', 'fastest', 'bechare', 'regional', 'chutya', 'stake', 'del', 'chhod', 'spoons', 'volcano', 'walks', 'response', 'namaste', 'josheph', 'daredevils', 'wangchuk', 'preety', 'crorepati', 'ladies', 'vizag', 'aisi', 'banna', 'aaa', 'burger', 'vishnu', 'earth', 'guidance', 'beech', 'desire', 'padta', 'population', 'bde', 'currently', 'suna', 'built', 'bow', 'bathing', 'sees', 'dedicated', 'mindset', 'unko', 'deke', 'sympathy', 'arunachal', 'trollers', 'watches', 'lifetime', 'pushpin', 'puch', 'hombale', 'chla', 'chief', 'tayyar', 'roj', 'liking', 'pune', 'shayad', 'press', 'aukaat', 'pelo', 'stomach', 'salla', 'represent', 'leagues', 'piche', 'gills', 'treated', 'similarly', 'followers', 'pronounced', 'facts', 'multiply', 'greater', 'titles', 'cum', 'bee', 'interaction', 'perspective', 'segment', 'slogans', 'challenger', 'rich', 'campaign', 'groom', 'spectators', 'aacha', 'suyesh', 'twitter', 'jaha', 'chapter', 'rcbs', 'informative', 'lal', 'snowflake', 'google', 'birth', 'mohmmad', 'krenge', 'bumraha', 'youngster', 'himansu', 'regret', 'criticized', 'breaking', 'hungry', 'consistency', 'gain', 'website', 'prayers', 'wet', 'ahemdabad', 'alzaari', 'jonson', 'comfortable', 'kid', 'agent', 'shakti', 'pasand', 'daal', 'aake', 'ghost', 'bitch', 'forgive', 'aljari', 'enthusiasm', 'sakriya', 'permanent', 'illiterate', 'jaisawal', 'prerak', 'deserving', 'boos', 'ghat', 'josef', 'generation', 'tottenham', 'elephant', 'hanji', 'axa', 'isbar', 'fc', 'gadhe', 'debut', 'hates', 'dekock', 'kese', 'wanna', 'reviews', 'ponting', 'millions', 'refer', 'avoid', 'srl', 'un', 'gandya', 'debutant', 'ofcourse', 'signed', 'considering', 'hila', 'square', 'tumhe', 'participating', 'tataluxury', 'capitan', 'spree', 'didi', 'competitive', 'clock', 'giant', 'shorts', 'legendary', 'kardo', 'memory', 'fell', 'capable', 'mili', 'spoiled', 'ameen', 'alhamdulillah', 'rcv', 'tapri', 'leading', 'helps', 'chapra', 'hea', 'fam', 'hardy', 'arre', 'uper', 'dev', 'romba', 'aree', 'rjraunak', 'podu', 'sirji', 'solid', 'rob', 'bhool', 'biting', 'continuously', 'galti', 'sahbaz', 'bhoot', 'laptop', 'hhh', 'nehera', 'creative', 'kho', 'defending', 'aaksh', 'ayega', 'luxury', 'gadgets', 'responsibility', 'seamer', 'keyal', 'wearing', 'cheers', 'fitness', 'straight', 'rajstan', 'decent', 'prone', 'padega', 'wat', 'involvement', 'fallen', 'tujhe', 'ker', 'hanuman', 'chi', 'hag', 'katar', 'champian', 'sunflower', 'specially', 'tabahi', 'variations', 'doubled', 'dung', 'dhul', 'jaswal', 'assamese', 'anil', 'viewer', 'deserved', 'similar', 'rahit', 'gandiya', 'specific', 'smart', 'skipped', 'police', 'understands', 'namah', 'decrease', 'jabardast', 'jetega', 'promotes', 'sportsmanship', 'absence', 'historical', 'rjraunac', 'mexwell', 'diverse', 'steve', 'trofi', 'ruthu', 'juxtaposition', 'subham', 'harm', 'often', 'understanding', 'banega', 'lave', 'mentor', 'sharing', 'chote', 'saini', 'usse', 'increases', 'hv', 'reveal', 'lungi', 'kyun', 'unki', 'vala', 'bakchodi', 'exchange', 'withdrew', 'fest', 'benstokes', 'waited', 'naya', 'iyyer', 'noob', 'chill', 'rathee', 'jindabad', 'sk', 'hasan', 'car', 'mubai', 'hales', 'blast', 'dies', 'adventure', 'madar', 'jeetna', 'keya', 'hurry', 'rajesthan', 'chopda', 'kush', 'dene', 'wasn', 'milky', 'efforts', 'strategies', 'apke', 'push', 'yaa', 'moj', 'miracle', 'edited', 'agli', 'putting', 'pati', 'belter', 'sikandar', 'charged', 'chori', 'describe', 'rusell', 'paar', 'vali', 'smooth', 'bachaa', 'rona', 'chamri', 'dussen', 'ekdam', 'vadapaav', 'kke', 'wished', 'burden', 'bencho', 'merry', 'learned', 'andya', 'haal', 'bkwas', 'kaal', 'matthew', 'odds', 'walking', 'pelai', 'hatter', 'sardul', 'jayo', 'bhang', 'huyi', 'fifa', 'babua', 'bangladeshi', 'caste', 'seat', 'maara', 'lado', 'waale', 'remembers', 'kauva', 'yai', 'package', 'praised', 'shoes', 'krni', 'bataye', 'flying', 'siddhu', 'venues', 'gana', 'pelte', 'danger', 'mazza', 'daddy', 'skill', 'jindabaad', 'intact', 'bright', 'loudest', 'dub', 'trident', 'hunger', 'captained', 'throwing', 'chpri', 'inko', 'yesh', 'chato', 'participants', 'pdta', 'fresher', 'emblem', 'preparing', 'crayon', 'kewal', 'maano', 'suzi', 'hypocrisy', 'realized', 'mentioned', 'batao', 'motherfucker', 'bonds', 'marks', 'bawas', 'benefited', 'pai', 'insulting', 'pleasure', 'lagate', 'yhi', 'steps', 'paheli', 'thak', 'frazer', 'unless', 'finalist', 'battle', 'temporary', 'hlw', 'kawa', 'bekaar', 'gaddar', 'impossible', 'caror', 'haarne', 'tarifo', 'matram', 'prime', 'sucks', 'preparation', 'appears', 'common', 'yuvi', 'lesson', 'jitni', 'kaliya', 'cancer', 'bolling', 'karni', 'hushed', 'crico', 'sha', 'ship', 'asish', 'phela', 'bhadva', 'kaash', 'searching', 'grave', 'kurnal', 'salam', 'fights', 'gaming', 'kauaaa', 'jaisa', 'yaha', 'depend', 'handy', 'cheated', 'haara', 'bauuaa', 'rakh', 'crows', 'airee', 'led', 'banne', 'anger', 'khelao', 'dawid', 'banalo', 'unfollowing', 'chaupal', 'clueless', 'sahrukh', 'hogaya', 'mst', 'fills', 'entirely', 'bali', 'jae', 'rohirat', 'smjh', 'landed', 'karab', 'rho', 'hatne', 'fooled', 'surf', 'shining', 'distance', 'slap', 'grimacing', 'milestone', 'besharam', 'dhoya', 'ordered', 'trahimam', 'visit', 'bo', 'highway', 'mentally', 'tej', 'booooooooo', 'bnate', 'dikhate', 'jiya', 'hora', 'thode', 'khallel', 'motivation', 'fools', 'jiska', 'investment', 'tittle', 'woke', 'eligible', 'cutter', 'derby', 'asli', 'stock', 'jitte', 'heartbeat', 'questions', 'haha', 'bakwaas', 'eleminator', 'younger', 'raped', 'jetegi', 'survive', 'touched', 'rcbbbbbb', 'tbh', 'synonymous', 'kolakata', 'woooooo', 'woooo', 'ahhhh', 'devils', 'kit', 'annoying', 'ends', 'receive', 'incredible', 'branding', 'kra', 'users', 'hasi', 'uthappa', 'franchises', 'classico', 'gardens', 'runners', 'engine', 'cricketaakash', 'rally', 'bengali', 'donate', 'nagarkoti', 'shanaka', 'jayant', 'nalkande', 'laura', 'hug', 'calculated', 'sl', 'squads', 'elish', 'aukat', 'ten', 'enna', 'roll', 'ml', 'nanga', 'mathiri', 'hitmen', 'illa', 'timing', 'places', 'hath', 'qualifies', 'rn', 'gugrat', 'scripted', 'hedrabad', 'aami', 'rohitman', 'krega', 'batan', 'aal', 'bhaia', 'rabrt', 'buddy', 'merchandise', 'clover', 'journey', 'ai', 'jhantu', 'guns', 'frustrated', 'realize', 'esal', 'wonders', 'mota', 'aadhe', 'jalti', 'tells', 'messi', 'image', 'engagement', 'ultra', 'patience', 'studyiq', 'ias', 'boldo', 'cutting', 'forver', 'bhiya', 'becouse', 'cuz', 'dogs', 'fish', 'environment', 'kingkohli', 'actor', 'anytime', 'product', 'define', 'appointed', 'barna', 'namdee', 'opposition', 'universal', 'nammade', 'follower', 'sotru', 'thick', 'boost', 'credits', 'kyoki', 'farewell', 'saat', 'dress', 'tease', 'trophys', 'roshit', 'darshan', 'tel', 'elise', 'uh', 'extremely', 'across', 'standard', 'earnings', 'fly', 'harami', 'kappa', 'salah', 'continuing', 'mike', 'sanjay', 'infact', 'payment', 'cks', 'several', 'focusing', 'jesa', 'thousands', 'attended', 'weekness', 'horrible', 'piece', 'kidding', 'malum', 'sall', 'attached', 'interviews', 'entertaining', 'melting', 'dogla', 'ekk', 'kingfisher', 'hats', 'correction', 'charm', 'rags', 'attachment', 'guaranteed', 'kafi', 'fellow', 'hrs', 'tumi', 'kyon', 'screen', 'batana', 'suffered', 'posts', 'aadmi', 'fare', 'service', 'formats', 'kingdom', 'scenario', 'loge', 'brown', 'kaya', 'honi', 'kote', 'roho', 'mechanical', 'aala', 'loding', 'tumhari', 'haryana', 'chilli', 'isan', 'kiye', 'inshaallah', 'lat', 'mante', 'itana', 'kyaa', 'maynk', 'jaya', 'lighter', 'blabbering', 'unlocked', 'sweep', 'hardin', 'rahiye', 'hamesha', 'tumne', 'kesa', 'jaga', 'ager', 'upr', 'lgta', 'pande', 'turns', 'dala', 'anxious', 'realeased', 'covers', 'backfoot', 'swear', 'khod', 'percentage', 'karde', 'costed', 'er', 'consistent', 'choking', 'jaati', 'gf', 'walk', 'naman', 'passes', 'blown', 'reel', 'hits', 'hours', 'raid', 'barendorff', 'mushkil', 'booed', 'convert', 'margin', 'milte', 'psl', 'wherever', 'discount', 'coin', 'fee', 'jete', 'chutiyapa', 'discipline', 'goli', 'bother', 'walia', 'chota', 'loot', 'jaata', 'inconsistent', 'marking', 'murasingh', 'bos', 'winer', 'winnings', 'inside', 'pool', 'arises', 'draws', 'bang', 'joking', 'maxwel', 'tremendous', 'connection', 'zindagi', 'sixth', 'pollard', 'ar', 'dengerous', 'utha', 'aim', 'besides', 'bnaya', 'leaks', 'probability', 'kala', 'fourth', 'kinda', 'dei', 'shine', 'haan', 'active', 'gifts', 'bokku', 'jk', 'macbook', 'mate', 'promise', 'pros', 'sets', 'bags', 'promotions', 'quarter', 'representation', 'inclusivity', 'wisdom', 'carrying', 'kee', 'mahol', 'drama', 'rayan', 'idol', 'village', 'vehicles', 'unnecessary', 'garbage', 'grass', 'hmara', 'performances', 'anchor', 'pathan', 'dairies', 'millionaire', 'pisa', 'crdo', 'seven', 'personality', 'dinner', 'eats', 'mum', 'diversity', 'evoke', 'identities', 'explore', 'thoughts', 'favour', 'fiz', 'ilove', 'jitaga', 'gilly', 'khuch', 'seraj', 'des', 'ti', 'catches', 'dee', 'ana', 'aapse', 'maxwal', 'pronunciation', 'ears', 'eppudu', 'hyping', 'tight', 'culprit', 'extend', 'namdey', 'backing', 'openion', 'rankings', 'worked', 'blunder', 'tan', 'muscle', 'loo', 'stick', 'rightly', 'assembly', 'jerseys', 'immediately', 'viewed', 'deleted', 'clarify', 'behrendorff', 'mari', 'hcb', 'chased', 'pettav', 'eagerly', 'supar', 'khelege', 'chases', 'wake', 'soo', 'den', 'chee', 'anthe', 'chepu', 'muslim', 'agye', 'dm', 'hurting', 'faida', 'harte', 'somehow', 'pgod', 'genuine', 'pdog', 'panna', 'krishnagiri', 'cs', 'fens', 'kore', 'parking', 'pdoggspeaks', 'finishes', 'harsal', 'zealand', 'audio', 'commenting', 'wholeheartedly', 'mese', 'hhhh', 'dealing', 'izzat', 'status', 'hme', 'blaming', 'kallu', 'sombu', 'instantly', 'kero', 'avan', 'agita', 'worries', 'padi', 'podunga', 'solla', 'pathi', 'bike', 'aden', 'conquer', 'destructive', 'dha', 'fever', 'extraordinary', 'thusar', 'truly', 'handers', 'pen', 'jimmedar', 'pages', 'happiest', 'mathew', 'subhankar', 'nuvvu', 'gane', 'baga', 'sledging', 'expired', 'boooo', 'shreya', 'knocks', 'bull', 'clarity', 'worldcups', 'automatically', 'dekhunga', 'dust', 'sacrificed', 'sharmaji', 'hou', 'stump', 'respact', 'runac', 'chocolate', 'loaded', 'plese', 'huda', 'nicolas', 'degi', 'adab', 'kolhi', 'stoins', 'condolences', 'demise', 'rishbh', 'roaming', 'enmity', 'daru', 'shines', 'bhaiyya', 'heartfelt', 'kuki', 'besht', 'woozy', 'dosanjh', 'bauaa', 'bht', 'meeda', 'chei', 'ante', 'bsd', 'indies', 'po', 'en', 'wt', 'wonderful', 'impt', 'ledhu', 'bhayya', 'mighty', 'breaker', 'bumraah', 'informed', 'stonish', 'takur', 'manegment', 'unnadu', 'chest', 'lpl', 'trolls', 'esliye', 'azam', 'walon', 'gang', 'engr', 'shiraj', 'jassi', 'received', 'milk', 'heroes', 'dhulai', 'tail', 'ijjat', 'rupye', 'andhbhakt', 'khelte', 'jeeting', 'nim', 'willing', 'jeeti', 'asset', 'bale', 'kartikeya', 'terms', 'imapact', 'semifinal', 'bhangde', 'dohni', 'forera', 'dekhlo', 'bh', 'bravis', 'shepard', 'kabi', 'gleen', 'youngsters', 'jgh', 'cheat', 'sword', 'bumhara', 'killer', 'pretty', 'agya', 'madhawal', 'ate', 'plzzz', 'fog', 'baller', 'maran', 'rajasthanroyals', 'resources', 'members', 'bowing', 'rossow', 'elis', 'relationship', 'mpl', 'chawala', 'subman', 'shephard', 'khatarnak', 'rcbin', 'tuje', 'barbad', 'viratian', 'narin', 'rathi', 'philip', 'education', 'sadly', 'states', 'trailer', 'budget', 'letters', 'jaygi', 'screenshot', 'mains', 'jye', 'insider', 'dive', 'ronaldo', 'starck', 'bear', 'payegi', 'rehnde', 'tactics', 'town', 'liquor', 'suggestion', 'achhe', 'banaa', 'cameroon', 'seh', 'sponsored', 'asa', 'chahate', 'shout', 'aane', 'non', 'jungle', 'appear', 'insane', 'perhaps', 'varna', 'stays', 'namda', 'north', 'tatte', 'myth', 'reserved', 'bhagwan', 'rote', 'sarkar', 'ranchi', 'minj', 'grab', 'mix', 'lifting', 'air', 'woo', 'mahila', 'jet', 'mauka', 'cape', 'nowadays', 'alright', 'raki', 'blog', 'hove', 'chodke', 'radio', 'hating', 'shor', 'dekhlena', 'dhan', 'rbrt', 'jaegi', 'sarma', 'lana', 'anybody', 'cp', 'febaret', 'maharaj', 'wadera', 'bani', 'unknown', 'mumkin', 'moin', 'cupcake', 'rider', 'fvrt', 'heaa', 'whistle', 'mey', 'weldon', 'advertisements', 'wtf', 'stac', 'samjh', 'henry', 'rehman', 'dikhaya', 'slept', 'vivek', 'bindra', 'supergiants', 'foreigner', 'gjb', 'mn', 'guts', 'disaster', 'masterclass', 'trick', 'rossouw', 'sushant', 'btao', 'upendra', 'druv', 'dushmantha', 'commenter', 'rep', 'bolt', 'thikshana', 'wishing', 'sbse', 'lallu', 'inglis', 'bohut', 'comfortably', 'hetmayer', 'kii', 'offs', 'hmesha', 'kat', 'hardic', 'plyr', 'personally', 'painful', 'mohmad', 'fighting', 'alternate']\n",
            "5389\n"
          ]
        }
      ]
    },
    {
      "cell_type": "code",
      "source": [
        "w2v.wv.similarity('rcb', 'red')"
      ],
      "metadata": {
        "colab": {
          "base_uri": "https://localhost:8080/"
        },
        "id": "CaKZnmQKvF6f",
        "outputId": "7356c09a-d6db-4d6c-828d-0998bba2c7c5"
      },
      "execution_count": null,
      "outputs": [
        {
          "output_type": "execute_result",
          "data": {
            "text/plain": [
              "0.42840803"
            ]
          },
          "metadata": {},
          "execution_count": 43
        }
      ]
    },
    {
      "cell_type": "code",
      "source": [
        "print(w2v.wv.most_similar('yellow'))"
      ],
      "metadata": {
        "colab": {
          "base_uri": "https://localhost:8080/"
        },
        "id": "3jK9wk4swPGF",
        "outputId": "a0aa4317-84bb-4d30-ac2a-cf9c52d5d817"
      },
      "execution_count": null,
      "outputs": [
        {
          "output_type": "stream",
          "name": "stdout",
          "text": [
            "[('yellove', 0.7557085156440735), ('text', 0.7164194583892822), ('purple', 0.6882122159004211), ('goal', 0.6775799989700317), ('blue', 0.6732689142227173), ('orange', 0.668631374835968), ('royalty', 0.6499009132385254), ('thx', 0.6452141404151917), ('subscriber', 0.6443500518798828), ('mahirat', 0.6307753920555115)]\n"
          ]
        }
      ]
    },
    {
      "cell_type": "code",
      "source": [
        "w2v.save(\"word2vec.model\")"
      ],
      "metadata": {
        "id": "qQQVUy0by2dq"
      },
      "execution_count": null,
      "outputs": []
    },
    {
      "cell_type": "code",
      "source": [
        "from nltk.tokenize import word_tokenize\n",
        "import nltk\n",
        "nltk.download('punkt')\n"
      ],
      "metadata": {
        "colab": {
          "base_uri": "https://localhost:8080/"
        },
        "id": "fcSLWoXBJJj3",
        "outputId": "5062224f-749c-48f3-824d-690ea70dad75"
      },
      "execution_count": null,
      "outputs": [
        {
          "output_type": "stream",
          "name": "stderr",
          "text": [
            "[nltk_data] Downloading package punkt to /root/nltk_data...\n",
            "[nltk_data]   Package punkt is already up-to-date!\n"
          ]
        },
        {
          "output_type": "execute_result",
          "data": {
            "text/plain": [
              "True"
            ]
          },
          "metadata": {},
          "execution_count": 46
        }
      ]
    },
    {
      "cell_type": "code",
      "source": [
        "\n",
        "# Load the saved Word2Vec model\n",
        "model_w2v = Word2Vec.load(\"word2vec.model\")\n",
        "\n",
        "# Tokenize your dataset\n",
        "# Assuming your dataset is stored in a DataFrame named 'dataset' and the text column is named 'english_text'\n",
        "texts = X_train\n",
        "tokenized_texts = [word_tokenize(text) for text in texts]\n",
        "\n",
        "# Function to create average word vectors\n",
        "def feature_vectorizer(tokens, model):\n",
        "    words = [word for word in tokens if word in model.wv]\n",
        "    if words:\n",
        "        return np.mean(model.wv[words], axis=0)\n",
        "    else:\n",
        "        return np.zeros(model.vector_size)\n",
        "\n",
        "# Transforming text into average vectors\n",
        "x_train_w2v = np.array([feature_vectorizer(tokens, model_w2v) for tokens in tokenized_texts])\n",
        "\n",
        "tokenized_texts_test = [word_tokenize(text) for text in X_test]\n",
        "\n",
        "# Transforming test text into average vectors\n",
        "x_test_w2v = np.array([feature_vectorizer(tokens, model_w2v) for tokens in tokenized_texts_test])\n",
        "\n",
        "# Now x_dataset_w2v contains the Word2Vec embeddings for your dataset.\n",
        "# You can use these embeddings as features for your machine learning models."
      ],
      "metadata": {
        "id": "vvBCn5V7kgSl"
      },
      "execution_count": null,
      "outputs": []
    },
    {
      "cell_type": "markdown",
      "source": [],
      "metadata": {
        "id": "UAJM4nVLcOcb"
      }
    },
    {
      "cell_type": "markdown",
      "source": [
        "Word2vec random forest"
      ],
      "metadata": {
        "id": "Fhsi9CnAIxHx"
      }
    },
    {
      "cell_type": "code",
      "source": [
        "#Naive Bayes(Gaussian)\n",
        "gaussian_nb_classifier = GaussianNB()\n",
        "# Fit the classifier on the training data\n",
        "gaussian_nb_classifier.fit(x_train_w2v, Y_train)\n",
        "\n",
        "# Predictions on the test set\n",
        "y_pred_w2v_nb = gaussian_nb_classifier.predict(x_test_w2v)\n",
        "random_forest_classifier.fit(x_train_w2v, Y_train)\n",
        "\n",
        "# Predictions on the test set\n",
        "y_pred_w2v = random_forest_classifier.predict(x_test_w2v)\n",
        "\n",
        "# Evaluate the model\n",
        "\n",
        "svm_classifier.fit(x_train_w2v, Y_train)  # Use x_train_w2v instead of X_cv_train\n",
        "\n",
        "# Predictions on the test set\n",
        "y_pred_w2v = svm_classifier.predict(x_test_w2v)  # Use x_test_w2v instead of X_cv_test\n",
        "\n"
      ],
      "metadata": {
        "id": "RknNAKDYI0km"
      },
      "execution_count": null,
      "outputs": []
    },
    {
      "cell_type": "code",
      "source": [
        "# Evaluate the model\n",
        "w2v_nb_accuracy = accuracy_score(Y_test, y_pred_w2v_nb)\n",
        "print(\"Accuracy using Word2Vec with Gaussian Naive Bayes:\", w2v_nb_accuracy)\n",
        "#Evaluate accuracy with random forest\n",
        "w2v_rf_accuracy = accuracy_score(Y_test, y_pred_w2v)\n",
        "print(\"Accuracy using Word2Vec random forest:\", w2v_rf_accuracy)\n",
        "\n",
        "# Evaluate the model\n",
        "w2v_svm_accuracy = accuracy_score(Y_test, y_pred_w2v)\n",
        "print(\"Accuracy using Word2Vec SVM:\", w2v_svm_accuracy)"
      ],
      "metadata": {
        "colab": {
          "base_uri": "https://localhost:8080/"
        },
        "id": "wylPK87oJDAD",
        "outputId": "f808e8f1-bcf5-41ba-a86d-f58ad1154a25"
      },
      "execution_count": null,
      "outputs": [
        {
          "output_type": "stream",
          "name": "stdout",
          "text": [
            "Accuracy using Word2Vec with Gaussian Naive Bayes: 0.23372781065088757\n",
            "Accuracy using Word2Vec random forest: 0.7071005917159763\n",
            "Accuracy using Word2Vec SVM: 0.7071005917159763\n"
          ]
        }
      ]
    },
    {
      "cell_type": "code",
      "source": [
        "import matplotlib.pyplot as plt\n",
        "\n",
        "# Accuracies for different feature representations\n",
        "tfidf_accuracies = [naive_tfidf_gaussian_accuracy, naive_tfidf_accuracy, svm_tfidf_accuracy, random_tfidf_accuracy]\n",
        "cv_accuracies = [naive_cv_gaussian_accuracy, naive_cv_accuracy, svm_cv_accuracy, random_cv_accuracy]\n",
        "w2v_accuracies = [w2v_nb_accuracy, 0, w2v_rf_accuracy, w2v_svm_accuracy]\n",
        "\n",
        "# Labels for the bars\n",
        "models = ['Gaussian NB', 'Multinomial NB', 'SVM', 'Random Forest']\n",
        "\n",
        "# Plotting the accuracies\n",
        "plt.figure(figsize=(10, 6))\n",
        "\n",
        "bar_width = 0.25\n",
        "index = range(len(models))\n",
        "\n",
        "bars1 = plt.bar(index, tfidf_accuracies, bar_width, label='TF-IDF')\n",
        "bars2 = plt.bar([i + bar_width for i in index], cv_accuracies, bar_width, label='Bag of Words')\n",
        "bars3 = plt.bar([i + bar_width*2 for i in index], w2v_accuracies, bar_width, label='Word2Vec')\n",
        "\n",
        "plt.xlabel('Models', fontsize=12)\n",
        "plt.ylabel('Accuracy', fontsize=12)\n",
        "plt.title('Accuracy Comparison of Different Feature Representations', fontsize=14)\n",
        "plt.xticks([i + bar_width for i in index], models)\n",
        "plt.legend()\n",
        "\n",
        "# Adding labels on top of each bar\n",
        "for bars in [bars1, bars2, bars3]:\n",
        "    for bar in bars:\n",
        "        height = bar.get_height()\n",
        "        plt.text(bar.get_x() + bar.get_width() / 2, height, round(height, 2), ha='center', va='bottom', fontsize=8)\n",
        "\n",
        "plt.tight_layout()\n",
        "plt.show()\n"
      ],
      "metadata": {
        "id": "T6ZU0XR8Xrwh",
        "colab": {
          "base_uri": "https://localhost:8080/",
          "height": 607
        },
        "outputId": "09027b3b-5c0a-47a7-9960-22d699ba4827"
      },
      "execution_count": null,
      "outputs": [
        {
          "output_type": "display_data",
          "data": {
            "text/plain": [
              "<Figure size 1000x600 with 1 Axes>"
            ],
            "image/png": "[encoded data removed]"
          },
          "metadata": {}
        }
      ]
    }
  ],
  "metadata": {
    "colab": {
      "provenance": [],
      "include_colab_link": true
    },
    "kernelspec": {
      "display_name": "Python 3",
      "name": "python3"
    },
    "language_info": {
      "name": "python"
    }
  },
  "nbformat": 4,
  "nbformat_minor": 0
}